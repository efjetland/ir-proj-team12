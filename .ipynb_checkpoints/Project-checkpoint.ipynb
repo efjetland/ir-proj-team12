{
 "cells": [
  {
   "cell_type": "code",
   "execution_count": 1,
   "metadata": {},
   "outputs": [],
   "source": [
    "# Required packages:\n",
    "import elasticsearch\n",
    "import math\n",
    "import numpy as np\n",
    "import os\n",
    "import pytest\n",
    "import random\n",
    "import requests\n",
    "import tarfile\n",
    "import json\n",
    "import bz2file\n",
    "import bz2\n",
    "import re\n",
    "\n",
    "from collections import Counter\n",
    "from collections import defaultdict\n",
    "from sklearn.ensemble import RandomForestRegressor\n",
    "from bz2 import BZ2File as bzopen\n",
    "from elasticsearch import Elasticsearch\n"
   ]
  },
  {
   "cell_type": "markdown",
   "metadata": {},
   "source": [
    "### Reading Query from Github\n",
    "\n",
    "Download query from github and split into train set and test set"
   ]
  },
  {
   "cell_type": "code",
   "execution_count": 2,
   "metadata": {},
   "outputs": [
    {
     "name": "stdout",
     "output_type": "stream",
     "text": [
      "14056\n"
     ]
    }
   ],
   "source": [
    "url = 'https://raw.githubusercontent.com/smart-task/smart-dataset/master/datasets/DBpedia/'\n",
    "file = 'smarttask_dbpedia_train.json'\n",
    "url = url + file\n",
    "queries=requests.get(url).json()\n",
    "\n",
    "\n",
    "random.seed(a=1234567)\n",
    "TRAIN_SIZE = int(len(queries) * 0.8)\n",
    "\n",
    "TRAIN_QUERY = queries[:TRAIN_SIZE]\n",
    "TEST_QUERY = queries[TRAIN_SIZE:]\n",
    "\n",
    "print(len(TRAIN_QUERY))\n"
   ]
  },
  {
   "cell_type": "markdown",
   "metadata": {},
   "source": [
    "### Download file from DBPedia NLP dataset\n",
    "\n",
    "Check whether dataset files (bz2) are available in data folder and download bz2 file if they are not"
   ]
  },
  {
   "cell_type": "code",
   "execution_count": 76,
   "metadata": {},
   "outputs": [],
   "source": [
    "dburl= 'http://downloads.dbpedia.org/2016-10/core-i18n/en/'\n",
    "#dbfiles = ['long_abstracts_en.ttl.bz2','short_abstracts_en.ttl.bz2','instance_types_sdtyped_dbo_en.ttl.bz2','instance_types_en.ttl.bz2']\n",
    "#cwd = os.getcwd()  \n",
    "dbfiles = ['long_abstracts_en.ttl.bz2','instance_types_transitive_en.ttl.bz2']\n",
    "dirname = 'data'\n",
    "\n",
    "for dbfile in dbfiles:\n",
    "    if not os.path.exists(dirname):\n",
    "        os.mkdir(dirname) \n",
    "    \n",
    "    # Download file\n",
    "    if not os.path.exists(dirname + '/' + dbfile):\n",
    "        url = dburl + dbfile\n",
    "        r = requests.get(url)\n",
    "        with open(dirname + '/'+ dbfile, 'wb') as f:\n",
    "            f.write(r.content)\n",
    "    \n",
    "    #extract\n",
    "    if not os.path.exists(dirname + '/' + dbfile[:-4]):\n",
    "        filepath= dirname + '/'+ dbfile\n",
    "        newfilepath = filepath[:-4] \n",
    "        with open(filepath, 'rb') as source, open(newfilepath, 'wb') as dest:\n",
    "            dest.write(bz2.decompress(source.read()))\n",
    " \n",
    "\n",
    "    else:\n",
    "        continue\n"
   ]
  },
  {
   "cell_type": "markdown",
   "metadata": {},
   "source": [
    "\n",
    "### Index configuration \n",
    "\n",
    "For each of the fields, store the term vectors. These should be stored in the index. "
   ]
  },
  {
   "cell_type": "code",
   "execution_count": 100,
   "metadata": {},
   "outputs": [],
   "source": [
    "es = Elasticsearch()\n",
    "INDEX_NAME = 'nlp_entity'\n",
    "\n",
    "INDEX_SETTINGS = {\n",
    "    'mappings': {\n",
    "            'properties': {\n",
    "                'description': {\n",
    "                    'type': 'text',\n",
    "                    'term_vector': 'yes',\n",
    "                    'analyzer': 'english'\n",
    "                },\n",
    "                'types': {\n",
    "                    'type': 'text',\n",
    "                    'term_vector': 'yes',\n",
    "                    'analyzer': 'english'\n",
    "                },\n",
    "            }\n",
    "        }\n",
    "    }\n"
   ]
  },
  {
   "cell_type": "code",
   "execution_count": 101,
   "metadata": {},
   "outputs": [],
   "source": [
    "ABSTRACTS = '<http://dbpedia.org/ontology/abstract>'\n",
    "COMMENTS = '<http://www.w3.org/2000/01/rdf-schema#comment>'\n",
    "TYPES = '<http://www.w3.org/1999/02/22-rdf-syntax-ns#type>'\n",
    "#abstract_files = ['long_abstracts_en.ttl.bz2','short_abstracts_en.ttl.bz2']\n",
    "#type_files = ['instance_types_sdtyped_dbo_en.ttl.bz2','instance_types_en.ttl.bz2']\n",
    "abstract_files = ['long_abstracts_en.ttl']\n",
    "type_files = ['instance_types_transitive_en.ttl']\n"
   ]
  },
  {
   "cell_type": "code",
   "execution_count": 111,
   "metadata": {},
   "outputs": [],
   "source": [
    "def resolve_abstract(text,delimiter):\n",
    "    text = text.split(delimiter)\n",
    "    text = text[1].replace('\"', '')\n",
    "    text = text.replace(' @en .','')\n",
    "    return text\n",
    "\n",
    "def resolve_entity(text):\n",
    "    name = text.split('>')[0].replace('_', ' ')\n",
    "    name = name.split('/')[-1]\n",
    "    return name\n",
    "\n",
    "def resolve_types(text,delimiter):\n",
    "    text = text.split(delimiter)\n",
    "    types = text[1]    \n",
    "    types = types[types.rfind('/')+1:types.rfind('>')]\n",
    "    return 'dbo:'+types\n",
    "\n",
    "def populate_type(idx, filename):\n",
    "    doc = {}\n",
    "    with open(filename,'r',encoding ='utf-8') as bzfin:\n",
    "        for i, line in enumerate(bzfin):\n",
    "            if i == 0: continue                       #skip header\n",
    "            if 'wikidata' in line.lower(): continue   #skip wiki\n",
    "                \n",
    "            line = line.rstrip()\n",
    "            entity = resolve_entity(line)\n",
    "            if entity is not None:\n",
    "                if TYPES in line:                         #update index if it already exist if not then create new one    \n",
    "                    types=resolve_types(line,TYPES)\n",
    "                    if es.exists(index=idx, id=entity):\n",
    "                        result = es.update(index=idx, id=entity, body={\n",
    "                            'script':{'source':'ctx._source.types.add(params.new_type)', 'params':\n",
    "                                          {'new_type' : types}}})['result']\n",
    "                    else:\n",
    "                        es.index(index=idx, id=entity, body={'types':[types],'description':''})\n",
    "                      \n",
    "            #if i == 100: break\n",
    "\n",
    "def populate_abstract(idx, filename):\n",
    "    doc = {}\n",
    "    with open(filename, 'r', encoding ='utf-8') as bzfin:\n",
    "        for i, line in enumerate(bzfin):\n",
    "            if i == 0: continue                      #skip header\n",
    "            if 'wikidata' in line.lower(): continue\n",
    "            \n",
    "            line = line.rstrip()\n",
    "            entity = resolve_entity(line) \n",
    "            if entity is not None:\n",
    "                if ABSTRACTS in line:     \n",
    "                    desc = resolve_abstract(line,ABSTRACTS)\n",
    "                elif COMMENTS in line:\n",
    "                    desc = resolve_abstract(line,COMMENTS)\n",
    "                else:\n",
    "                    continue\n",
    "\n",
    "                if es.exists(index=idx, id=entity):                 #only update index if already exist \n",
    "                    result = es.update(index=idx, id=entity, body={\n",
    "                            'script':{'source':'ctx._source.description += params.new_desc', \n",
    "                                      'params': {'new_desc' :desc + ' '}}})['result']\n",
    "                    if result != 'updated': print('failed to update description for :', entity)\n",
    "                    \n",
    "            if i == 100: break\n",
    "            "
   ]
  },
  {
   "cell_type": "code",
   "execution_count": 112,
   "metadata": {},
   "outputs": [
    {
     "data": {
      "text/plain": [
       "{'acknowledged': True, 'shards_acknowledged': True, 'index': 'nlp_entity'}"
      ]
     },
     "execution_count": 112,
     "metadata": {},
     "output_type": "execute_result"
    }
   ],
   "source": [
    "if es.indices.exists(INDEX_NAME):\n",
    "    es.indices.delete(index=INDEX_NAME)\n",
    "es.indices.create(index=INDEX_NAME, body=INDEX_SETTINGS)    \n"
   ]
  },
  {
   "cell_type": "markdown",
   "metadata": {},
   "source": [
    "## Populate index\n",
    "\n",
    "There are 2 steps in populating index based on fields. This is due to fact that there are 3 different dataset files for 2 different fields, types and description."
   ]
  },
  {
   "cell_type": "code",
   "execution_count": null,
   "metadata": {},
   "outputs": [],
   "source": [
    "for file in type_files:\n",
    "    file = dirname + '/'+ file\n",
    "    populate_type(INDEX_NAME,file)\n"
   ]
  },
  {
   "cell_type": "code",
   "execution_count": 106,
   "metadata": {},
   "outputs": [],
   "source": [
    "for file in abstract_files:\n",
    "    file = dirname + '/'+ file\n",
    "    populate_abstract(INDEX_NAME, file)"
   ]
  },
  {
   "cell_type": "code",
   "execution_count": 107,
   "metadata": {},
   "outputs": [
    {
     "name": "stdout",
     "output_type": "stream",
     "text": [
      "{'took': 0, 'timed_out': False, '_shards': {'total': 1, 'successful': 1, 'skipped': 0, 'failed': 0}, 'hits': {'total': {'value': 1, 'relation': 'eq'}, 'max_score': 1.1294491, 'hits': [{'_index': 'nlp_entity', '_type': '_doc', '_id': 'Actrius', '_score': 1.1294491, '_source': {'types': ['dbo:Movie', 'dbo:Work', 'dbo:CreativeWork', 'dbo:owl#Thing'], 'description': ' Actresses (Catalan: Actrius) is a 1997 Catalan language Spanish drama film produced and directed by Ventura Pons and based on the award-winning stage play E.R. by Josep Maria Benet i Jornet. The film has no male actors, with all roles played by females. The film was produced in 1996.@en . '}}]}}\n",
      "{'_index': 'nlp_entity', '_type': '_doc', '_id': 'Actrius', '_version': 5, 'found': True, 'took': 0, 'term_vectors': {'types': {'field_statistics': {'sum_doc_freq': 266, 'doc_count': 74, 'sum_ttf': 337}, 'terms': {'dbo:creativework': {'term_freq': 1}, 'dbo:movi': {'term_freq': 1}, 'dbo:owl': {'term_freq': 1}, 'dbo:work': {'term_freq': 1}, 'thing': {'term_freq': 1}}}}}\n"
     ]
    }
   ],
   "source": [
    "query = 'Actrius'\n",
    "hits = es.search(index=INDEX_NAME, body={'query': {'match': {'description': query}}},\n",
    "                               _source=True, size=1)\n",
    "print(hits)\n",
    "tv_1 = es.termvectors(index=INDEX_NAME, id='Actrius', fields='types')\n",
    "print(tv_1)"
   ]
  },
  {
   "cell_type": "markdown",
   "metadata": {},
   "source": [
    "## Predic types for queries\n",
    "\n",
    "First score documents given the querie. Count the number of times a type occurs across the documents, dividing it by the sum of all type counts to get the type weight. For every type in a document, multiply the type weight with the document score and add to the types score."
   ]
  },
  {
   "cell_type": "code",
   "execution_count": 97,
   "metadata": {},
   "outputs": [],
   "source": [
    "def baseline_retrieval(index_name, query, field='description', k=100):\n",
    "    es_query = {\n",
    "        \"query\":{\n",
    "            \"query_string\":{\n",
    "                \"query\": query,\n",
    "                \"default_field\": field\n",
    "            }\n",
    "        }\n",
    "    }\n",
    "\n",
    "    matches = es.search(index=index_name, body=es_query, _source=True, size=k)['hits']['hits']\n",
    "\n",
    "    type_count = defaultdict(int)\n",
    "    for match in matches:\n",
    "        for doc_type in match['_source']['types']:\n",
    "            type_count[doc_type] += 1\n",
    "\n",
    "    type_weight = {}\n",
    "    for t, c in type_count.items():\n",
    "        type_weight[t] = 1/c\n",
    "\n",
    "    type_score = defaultdict(int)\n",
    "    for match in matches:\n",
    "        doc_id = match['_id']\n",
    "        doc_score = match['_score']\n",
    "        for doc_type in match['_source']['types']:\n",
    "            type_score[doc_type] += doc_score * type_weight[doc_type]\n",
    "\n",
    "    scores = sorted([(t, s) for t, s in type_score.items()],key=lambda tup: tup[1], reverse=True)\n",
    "    return scores\n"
   ]
  },
  {
   "cell_type": "code",
   "execution_count": 98,
   "metadata": {},
   "outputs": [],
   "source": [
    "query_scores = {}\n",
    "pattern = re.compile(r'[\\W_]+')\n",
    "for query in TRAIN_QUERY:\n",
    "    if query['category'] != 'resource':\n",
    "        continue\n",
    "    if query['question'] == None:\n",
    "        continue\n",
    "    q = pattern.sub(' ', query['question'])\n",
    "    predicted = baseline_retrieval(INDEX_NAME, q)\n",
    "    query_scores[query['id']] = {'predicted': predicted, 'actual': query['type']}"
   ]
  },
  {
   "cell_type": "code",
   "execution_count": 99,
   "metadata": {
    "tags": []
   },
   "outputs": [
    {
     "name": "stdout",
     "output_type": "stream",
     "text": [
      "ID: dbpedia_14427\n",
      "Predicted: [('dbo:owl#Thing', 1.4246464142857143), ('dbo:Movie', 1.3952575), ('dbo:Work', 1.39298675), ('dbo:CreativeWork', 1.39298675), ('dbo:Book', 1.390716), ('dbo:WrittenWork', 1.390716), ('dbo:AdministrativeArea', 1.2034011), ('dbo:Region', 1.2034011), ('dbo:PopulatedPlace', 1.2034011), ('dbo:Place', 1.2034011)]\n",
      "Actual: ['dbo:Opera', 'dbo:MusicalWork', 'dbo:Work']\n",
      "\n",
      "ID: dbpedia_3681\n",
      "Predicted: [('dbo:Country', 2.8768926), ('dbo:PopulatedPlace', 2.8768926), ('dbo:Place', 2.8768926), ('dbo:Location', 2.8768926), ('dbo:owl#Thing', 2.2102526), ('dbo:Person', 1.8769326000000002), ('dbo:DUL.owl#NaturalPerson', 1.8769326), ('dbo:Agent', 1.8769326), ('dbo:DUL.owl#Agent', 1.8769326)]\n",
      "Actual: ['dbo:EducationalInstitution', 'dbo:Organisation', 'dbo:Agent']\n",
      "\n",
      "ID: dbpedia_12020\n",
      "Predicted: [('dbo:Country', 5.4790177), ('dbo:PopulatedPlace', 4.14734435), ('dbo:Place', 4.14734435), ('dbo:Location', 4.14734435), ('dbo:AdministrativeArea', 2.815671), ('dbo:Region', 2.815671), ('dbo:owl#Thing', 1.8864856671428574), ('dbo:DUL.owl#NaturalPerson', 1.2149954733333335), ('dbo:Agent', 1.2149954733333335), ('dbo:DUL.owl#Agent', 1.2149954733333335)]\n",
      "Actual: ['dbo:State', 'dbo:PopulatedPlace', 'dbo:Place']\n",
      "\n",
      "ID: dbpedia_10315\n",
      "Predicted: [('dbo:AdministrativeArea', 0.80391794), ('dbo:Region', 0.80391794), ('dbo:PopulatedPlace', 0.80391794), ('dbo:Place', 0.80391794), ('dbo:Location', 0.80391794), ('dbo:owl#Thing', 0.7115789771428572), ('dbo:Agent', 0.6932023066666666), ('dbo:DUL.owl#Agent', 0.6932023066666666), ('dbo:Person', 0.6360751625), ('dbo:DUL.owl#NaturalPerson', 0.6360751625)]\n",
      "Actual: ['dbo:Opera', 'dbo:MusicalWork', 'dbo:Work']\n",
      "\n",
      "ID: dbpedia_1335\n",
      "Predicted: [('dbo:Country', 3.3674412), ('dbo:PopulatedPlace', 2.7091813), ('dbo:Place', 2.7091813), ('dbo:Location', 2.7091813), ('dbo:AdministrativeArea', 2.0509214), ('dbo:Region', 2.0509214), ('dbo:owl#Thing', 1.7230605999999995), ('dbo:Agent', 1.1767576425000001), ('dbo:DUL.owl#Agent', 1.1767576425000001), ('dbo:Person', 1.0343448600000003)]\n",
      "Actual: ['dbo:Country', 'dbo:State', 'dbo:PopulatedPlace']\n",
      "\n",
      "ID: dbpedia_6016\n",
      "Predicted: [('dbo:owl#Thing', 2.7584095), ('dbo:DUL.owl#NaturalPerson', 1.8563766), ('dbo:Agent', 1.8563766), ('dbo:DUL.owl#Agent', 1.8563766), ('dbo:Person', 1.8563765999999997)]\n",
      "Actual: ['dbo:AcademicSubject', 'dbo:TopicalConcept']\n",
      "\n",
      "ID: dbpedia_3432\n",
      "Predicted: [('dbo:owl#Thing', 2.496835866666667), ('dbo:Person', 2.09123155), ('dbo:DUL.owl#NaturalPerson', 2.09123155), ('dbo:Agent', 2.09123155), ('dbo:DUL.owl#Agent', 2.09123155), ('dbo:Country', 1.0334575), ('dbo:PopulatedPlace', 1.0334575), ('dbo:Place', 1.0334575), ('dbo:Location', 1.0334575)]\n",
      "Actual: ['dbo:Name']\n",
      "\n",
      "ID: dbpedia_16006\n",
      "Predicted: [('dbo:Country', 4.7610865), ('dbo:PopulatedPlace', 2.8059115500000003), ('dbo:Location', 2.8059115500000003), ('dbo:Place', 2.80591155), ('dbo:owl#Thing', 1.553976425), ('dbo:Book', 1.390716), ('dbo:WrittenWork', 1.390716), ('dbo:Work', 1.390716), ('dbo:CreativeWork', 1.390716), ('dbo:Agent', 1.1963709)]\n",
      "Actual: ['dbo:Organisation', 'dbo:Agent']\n",
      "\n",
      "ID: dbpedia_278\n",
      "Predicted: [('dbo:owl#Thing', 3.1517333777777776), ('dbo:Agent', 2.6259622), ('dbo:DUL.owl#Agent', 2.6259622), ('dbo:Country', 2.602125), ('dbo:PopulatedPlace', 2.602125), ('dbo:Place', 2.602125), ('dbo:Location', 2.602125), ('dbo:DUL.owl#NaturalPerson', 2.3919778000000003), ('dbo:Person', 2.3919778), ('dbo:Movie', 2.0702326)]\n",
      "Actual: ['dbo:Person', 'dbo:Agent']\n",
      "\n",
      "ID: dbpedia_7661\n",
      "Predicted: [('dbo:Agent', 2.66448735), ('dbo:DUL.owl#Agent', 2.66448735), ('dbo:Person', 2.057995666666667), ('dbo:DUL.owl#NaturalPerson', 2.057995666666667), ('dbo:owl#Thing', 1.63579954), ('dbo:Country', 1.0334575), ('dbo:PopulatedPlace', 1.0334575), ('dbo:Place', 1.0334575), ('dbo:Location', 1.0334575), ('dbo:Athlete', 0.8450123)]\n",
      "Actual: ['dbo:Person', 'dbo:Agent']\n",
      "\n",
      "ID: dbpedia_11196\n",
      "Predicted: [('dbo:Country', 2.4953246), ('dbo:Agent', 2.1642737), ('dbo:DUL.owl#Agent', 2.1642737), ('dbo:DUL.owl#NaturalPerson', 1.8344583500000002), ('dbo:Person', 1.8344583499999993), ('dbo:PopulatedPlace', 1.76439105), ('dbo:Place', 1.76439105), ('dbo:Location', 1.76439105), ('dbo:owl#Thing', 1.691166957142857), ('dbo:AdministrativeArea', 1.0334575)]\n",
      "Actual: ['dbo:WrittenWork', 'dbo:Work']\n",
      "\n"
     ]
    }
   ],
   "source": [
    "for i, (key, val) in enumerate(query_scores.items()):\n",
    "    print(\"ID: {}\".format(key))\n",
    "    print(\"Predicted: {}\".format(val['predicted'][:10]))\n",
    "    print(\"Actual: {}\\n\".format(val['actual'][:3]))\n",
    "    if i == 10:\n",
    "        break"
   ]
  },
  {
   "cell_type": "code",
   "execution_count": null,
   "metadata": {},
   "outputs": [],
   "source": []
  }
 ],
 "metadata": {
  "kernelspec": {
   "display_name": "Python 3",
   "language": "python",
   "name": "python3"
  },
  "language_info": {
   "codemirror_mode": {
    "name": "ipython",
    "version": 3
   },
   "file_extension": ".py",
   "mimetype": "text/x-python",
   "name": "python",
   "nbconvert_exporter": "python",
   "pygments_lexer": "ipython3",
   "version": "3.7.1"
  }
 },
 "nbformat": 4,
 "nbformat_minor": 2
}
