{
 "cells": [
  {
   "cell_type": "code",
   "execution_count": 1,
   "metadata": {},
   "outputs": [],
   "source": [
    "# Required packages:\n",
    "import elasticsearch\n",
    "import math\n",
    "import numpy as np\n",
    "import os\n",
    "import pytest\n",
    "import random\n",
    "import requests\n",
    "import tarfile\n",
    "import json\n",
    "import bz2file\n",
    "import bz2\n",
    "import re\n",
    "\n",
    "from collections import Counter\n",
    "from collections import defaultdict\n",
    "from sklearn.ensemble import RandomForestRegressor\n",
    "from bz2 import BZ2File as bzopen\n",
    "from elasticsearch import Elasticsearch\n"
   ]
  },
  {
   "cell_type": "markdown",
   "metadata": {},
   "source": [
    "### Reading Query from Github\n",
    "\n",
    "Download query from github and split into train set and test set"
   ]
  },
  {
   "cell_type": "code",
   "execution_count": 2,
   "metadata": {},
   "outputs": [
    {
     "output_type": "stream",
     "name": "stdout",
     "text": [
      "14056\n"
     ]
    }
   ],
   "source": [
    "url = 'https://raw.githubusercontent.com/smart-task/smart-dataset/master/datasets/DBpedia/'\n",
    "file = 'smarttask_dbpedia_train.json'\n",
    "url = url + file\n",
    "queries=requests.get(url).json()\n",
    "\n",
    "\n",
    "random.seed(a=1234567)\n",
    "TRAIN_SIZE = int(len(queries) * 0.8)\n",
    "\n",
    "TRAIN_QUERY = queries[:TRAIN_SIZE]\n",
    "TEST_QUERY = queries[TRAIN_SIZE:]\n",
    "\n",
    "print(len(TRAIN_QUERY))\n"
   ]
  },
  {
   "cell_type": "markdown",
   "metadata": {},
   "source": [
    "### Download file from DBPedia NLP dataset\n",
    "\n",
    "Check whether dataset files (bz2) are available in data folder and download bz2 file if they are not"
   ]
  },
  {
   "cell_type": "code",
   "execution_count": 3,
   "metadata": {},
   "outputs": [],
   "source": [
    "dburl= 'http://downloads.dbpedia.org/2016-10/core-i18n/en/'\n",
    "#dbfiles = ['long_abstracts_en.ttl.bz2','short_abstracts_en.ttl.bz2','instance_types_sdtyped_dbo_en.ttl.bz2','instance_types_en.ttl.bz2']\n",
    "#cwd = os.getcwd()  \n",
    "dbfiles = ['long_abstracts_en.ttl.bz2','instance_types_transitive_en.ttl.bz2']\n",
    "dirname = 'data'\n",
    "\n",
    "for dbfile in dbfiles:\n",
    "    if not os.path.exists(dirname):\n",
    "        os.mkdir(dirname) \n",
    "        \n",
    "    if not os.path.exists(dirname + '/' + dbfile):\n",
    "        # Download file\n",
    "        url = dburl + dbfile\n",
    "        r = requests.get(url)\n",
    "        with open(dirname + '/'+ dbfile, 'wb') as f:\n",
    "            f.write(r.content)\n",
    "    else:\n",
    "        continue\n"
   ]
  },
  {
   "cell_type": "markdown",
   "metadata": {},
   "source": [
    "\n",
    "### Index configuration \n",
    "\n",
    "For each of the fields, store the term vectors. These should be stored in the index. "
   ]
  },
  {
   "cell_type": "code",
   "execution_count": 4,
   "metadata": {},
   "outputs": [],
   "source": [
    "es = Elasticsearch()\n",
    "INDEX_NAME = 'nlp_entity'\n",
    "\n",
    "INDEX_SETTINGS = {\n",
    "    'mappings': {\n",
    "            'properties': {\n",
    "                #'names': {\n",
    "                #    'type': 'text',\n",
    "                #    'term_vector': 'yes',\n",
    "                #    'analyzer': 'english'\n",
    "                #},\n",
    "                'description': {\n",
    "                    'type': 'text',\n",
    "                    'term_vector': 'yes',\n",
    "                    'analyzer': 'english'\n",
    "                },\n",
    "                'types': {\n",
    "                    'type': 'text',\n",
    "                    'term_vector': 'yes',\n",
    "                    'analyzer': 'english'\n",
    "                },\n",
    "                #'catch_all': {\n",
    "                #    'type': 'text',\n",
    "                #    'term_vector': 'yes',\n",
    "                #    'analyzer': 'english'\n",
    "                #},\n",
    "            }\n",
    "        }\n",
    "    }\n"
   ]
  },
  {
   "cell_type": "code",
   "execution_count": 5,
   "metadata": {},
   "outputs": [],
   "source": [
    "ABSTRACTS = '<http://dbpedia.org/ontology/abstract>'\n",
    "COMMENTS = '<http://www.w3.org/2000/01/rdf-schema#comment>'\n",
    "TYPES = '<http://www.w3.org/1999/02/22-rdf-syntax-ns#type>'\n",
    "#abstract_files = ['long_abstracts_en.ttl.bz2','short_abstracts_en.ttl.bz2']\n",
    "#type_files = ['instance_types_sdtyped_dbo_en.ttl.bz2','instance_types_en.ttl.bz2']\n",
    "abstract_files = ['long_abstracts_en.ttl.bz2']\n",
    "type_files = ['instance_types_transitive_en.ttl.bz2']\n"
   ]
  },
  {
   "cell_type": "code",
   "execution_count": 6,
   "metadata": {},
   "outputs": [],
   "source": [
    "def resolve_abstract(text,delimiter):\n",
    "    text = text.split(delimiter)\n",
    "    text = text[1].replace('\"', ' ')\n",
    "    text = text.replace(' @en .','')\n",
    "    return text\n",
    "\n",
    "def resolve_entity(text):\n",
    "    name = text.split('>')[0].replace('_', ' ')\n",
    "    name = name.split('/')[-1]\n",
    "    return name\n",
    "\n",
    "def resolve_types(text,delimiter):\n",
    "    text = text.split(delimiter)\n",
    "    types = text[1]    \n",
    "    types = types[types.rfind('/')+1:types.rfind('>')]\n",
    "    return 'dbo:'+types\n",
    "\n",
    "def populate_type(idx, filename):\n",
    "    doc = {}\n",
    "    #cwd = os.getcwd()\n",
    "    #myfile= os.path.join(cwd, dbfile)\n",
    "    myfile = 'data' + '/' +  filename\n",
    "    with bzopen(myfile, \"r\") as bzfin:\n",
    "        for i, line in enumerate(bzfin):\n",
    "            \n",
    "            if i == 0: continue                #skip header\n",
    "            line = line.rstrip().decode('utf-8')\n",
    "            entity = resolve_entity(line)\n",
    "\n",
    "            if entity is not None:\n",
    "                if TYPES in line:                         #update index if it already exist if not then create new one    \n",
    "                    types=resolve_types(line,TYPES)\n",
    "                    if es.exists(index=idx, id=entity):\n",
    "                        result = es.update(index=idx, id=entity, body={\n",
    "                            'script':{'source':'ctx._source.types.add(params.new_type)', 'params':\n",
    "                                          {'new_type' : types}}})['result']\n",
    "                        #result = es.update(index=idx, id=entity, body={\n",
    "                        #    'script':{'source':'if(ctx._source.types.contains(params.new_type)){ctx._source.types=ctx._source.types} else {ctx._source.types.add(params.new_type)}', \n",
    "                        #    'params': {'new_type' : types}}})['result']\n",
    "\n",
    "                    else:\n",
    "                        es.index(index=idx, id=entity, body={'types':[types],'description':''})\n",
    "                      \n",
    "            if i == 100: break\n",
    "\n",
    "def populate_abstract(idx, filename):\n",
    "    doc = {}\n",
    "    #cwd = os.getcwd()\n",
    "    #myfile= os.path.join(cwd, filename)\n",
    "    myfile = 'data' + '/'  + filename\n",
    "    with bzopen(myfile, \"r\") as bzfin:\n",
    "        for i, line in enumerate(bzfin):\n",
    "            \n",
    "            if i == 0: continue                      #skip header\n",
    "            line = line.rstrip().decode('utf-8')\n",
    "            entity = resolve_entity(line)\n",
    "            \n",
    "            if entity is not None:\n",
    "                if ABSTRACTS in line:     \n",
    "                    desc = resolve_abstract(line,ABSTRACTS)\n",
    "                elif COMMENTS in line:\n",
    "                    desc = resolve_abstract(line,COMMENTS)\n",
    "                else:\n",
    "                    continue\n",
    "\n",
    "                if es.exists(index=idx, id=entity):    #only update index if already exist \n",
    "                    result = es.update(index=idx, id=entity, body={\n",
    "                            'script':{'source':'ctx._source.description += params.new_desc', \n",
    "                                      'params': {'new_desc' :desc + ' '}}})['result']\n",
    "\n",
    "                    #result =es.update(index=idx, id=entity, body={\n",
    "                    #        'script':{'source':'if(ctx._source.description.contains(params.new_desc)){ctx._source.description=ctx._source.description} else {ctx._source.description += params.new_desc}', \n",
    "                    #        'params': {'new_desc' : ' ' + desc}}})['result']\n",
    "                    if result != 'updated': print('failed to update description for :', entity)\n",
    "                    \n",
    "               # else:\n",
    "               #     print(entity)\n",
    "               #     es.index(index=idx, id=entity, body={'types':[],'description':desc})\n",
    "\n",
    "            if i == 100: break\n",
    "            "
   ]
  },
  {
   "cell_type": "code",
   "execution_count": 7,
   "metadata": {},
   "outputs": [
    {
     "output_type": "execute_result",
     "data": {
      "text/plain": [
       "{'acknowledged': True, 'shards_acknowledged': True, 'index': 'nlp_entity'}"
      ]
     },
     "metadata": {},
     "execution_count": 7
    }
   ],
   "source": [
    "if es.indices.exists(INDEX_NAME):\n",
    "    es.indices.delete(index=INDEX_NAME)\n",
    "es.indices.create(index=INDEX_NAME, body=INDEX_SETTINGS)    \n"
   ]
  },
  {
   "cell_type": "markdown",
   "metadata": {},
   "source": [
    "## Populate index\n",
    "\n",
    "There are 2 steps in populating index based on fields. This is due to fact that there are 3 different dataset files for 2 different fields, types and description."
   ]
  },
  {
   "cell_type": "code",
   "execution_count": 11,
   "metadata": {},
   "outputs": [],
   "source": [
    "for file in type_files:\n",
    "    populate_type(INDEX_NAME,file)\n",
    "\n"
   ]
  },
  {
   "cell_type": "code",
   "execution_count": 12,
   "metadata": {},
   "outputs": [],
   "source": [
    "for file in abstract_files:\n",
    "    populate_abstract(INDEX_NAME, file)"
   ]
  },
  {
   "cell_type": "code",
   "execution_count": 13,
   "metadata": {},
   "outputs": [
    {
     "output_type": "stream",
     "name": "stdout",
     "text": [
      "{'took': 0, 'timed_out': False, '_shards': {'total': 1, 'successful': 1, 'skipped': 0, 'failed': 0}, 'hits': {'total': {'value': 1, 'relation': 'eq'}, 'max_score': 4.552845, 'hits': [{'_index': 'nlp_entity', '_type': '_doc', '_id': 'Actrius', '_score': 4.552845, '_source': {'types': ['dbo:Movie', 'dbo:Wikidata:Q11424', 'dbo:Work', 'dbo:CreativeWork', 'dbo:Q386724', 'dbo:owl#Thing', 'dbo:Movie', 'dbo:Wikidata:Q11424', 'dbo:Work', 'dbo:CreativeWork', 'dbo:Q386724', 'dbo:owl#Thing'], 'description': '  Actresses (Catalan: Actrius) is a 1997 Catalan language Spanish drama film produced and directed by Ventura Pons and based on the award-winning stage play E.R. by Josep Maria Benet i Jornet. The film has no male actors, with all roles played by females. The film was produced in 1996.   Actresses (Catalan: Actrius) is a 1997 Catalan language Spanish drama film produced and directed by Ventura Pons and based on the award-winning stage play E.R. by Josep Maria Benet i Jornet. The film has no male actors, with all roles played by females. The film was produced in 1996. '}}]}}\n{'_index': 'nlp_entity', '_type': '_doc', '_id': 'Actrius', '_version': 14, 'found': True, 'took': 0, 'term_vectors': {'types': {'field_statistics': {'sum_doc_freq': 1553, 'doc_count': 226, 'sum_ttf': 2555}, 'terms': {'dbo:creativework': {'term_freq': 2}, 'dbo:movi': {'term_freq': 2}, 'dbo:owl': {'term_freq': 2}, 'dbo:q386724': {'term_freq': 2}, 'dbo:wikidata:q11424': {'term_freq': 2}, 'dbo:work': {'term_freq': 2}, 'thing': {'term_freq': 2}}}}}\n"
     ]
    }
   ],
   "source": [
    "query = 'Actrius'\n",
    "hits = es.search(index=INDEX_NAME, body={'query': {'match': {'description': query}}},\n",
    "                               _source=True, size=1)\n",
    "print(hits)\n",
    "tv_1 = es.termvectors(index=INDEX_NAME, id='Actrius', fields='types')\n",
    "print(tv_1)"
   ]
  },
  {
   "source": [
    "## Predic types for queries\n",
    "\n",
    "First score documents given the querie. Count the number of times a type occurs across the documents, dividing it by the sum of all type counts to get the type weight. For every type in a document, multiply the type weight with the document score and add to the types score."
   ],
   "cell_type": "markdown",
   "metadata": {}
  },
  {
   "cell_type": "code",
   "execution_count": 31,
   "metadata": {},
   "outputs": [],
   "source": [
    "def baseline_retrieval(index_name, query, field='description', k=100):\n",
    "    es_query = {\n",
    "        \"query\":{\n",
    "            \"query_string\":{\n",
    "                \"query\": query,\n",
    "                \"default_field\": field\n",
    "            }\n",
    "        }\n",
    "    }\n",
    "\n",
    "    matches = es.search(index=index_name, body=es_query, _source=True, size=k)['hits']['hits']\n",
    "\n",
    "    type_count = defaultdict(int)\n",
    "    for match in matches:\n",
    "        for doc_type in match['_source']['types']:\n",
    "            type_count[doc_type] += 1\n",
    "\n",
    "    type_weight = {}\n",
    "    for t, c in type_count.items():\n",
    "        type_weight[t] = 1/c\n",
    "\n",
    "    type_score = defaultdict(int)\n",
    "    for match in matches:\n",
    "        doc_id = match['_id']\n",
    "        doc_score = match['_score']\n",
    "        for doc_type in match['_source']['types']:\n",
    "            type_score[doc_type] += doc_score * type_weight[doc_type]\n",
    "\n",
    "    scores = sorted([(t, s) for t, s in type_score.items()],key=lambda tup: tup[1], reverse=True)\n",
    "    return scores\n"
   ]
  },
  {
   "cell_type": "code",
   "execution_count": 32,
   "metadata": {},
   "outputs": [],
   "source": [
    "query_scores = {}\n",
    "pattern = re.compile(r'[\\W_]+')\n",
    "for query in TRAIN_QUERY:\n",
    "    if query['category'] != 'resource':\n",
    "        continue\n",
    "    if query['question'] == None:\n",
    "        continue\n",
    "    q = pattern.sub(' ', query['question'])\n",
    "    predicted = baseline_retrieval(INDEX_NAME, q)\n",
    "    query_scores[query['id']] = {'predicted': predicted, 'actual': query['type']}"
   ]
  },
  {
   "cell_type": "code",
   "execution_count": 34,
   "metadata": {
    "tags": []
   },
   "outputs": [
    {
     "output_type": "stream",
     "name": "stdout",
     "text": [
      "ID: dbpedia_14427\nPredicted: [('dbo:Q618779', 4.659777), ('dbo:Q12136', 2.508838), ('dbo:owl#Thing', 1.772485345714286), ('dbo:Movie', 1.2970583), ('dbo:Wikidata:Q11424', 1.2970583), ('dbo:Work', 1.2927939), ('dbo:CreativeWork', 1.2927939), ('dbo:Q386724', 1.2927939), ('dbo:Book', 1.2885295), ('dbo:Q571', 1.2885295)]\nActual: ['dbo:Opera', 'dbo:MusicalWork', 'dbo:Work']\n\nID: dbpedia_3681\nPredicted: [('dbo:Country', 3.5713477), ('dbo:Q6256', 3.5713477), ('dbo:PopulatedPlace', 3.5713477), ('dbo:Place', 3.5713477), ('dbo:Location', 3.5713477), ('dbo:owl#Thing', 2.4072869666666663), ('dbo:Q4964182', 1.9804432), ('dbo:Q5', 1.8252566000000001), ('dbo:Q215627', 1.8252566000000001), ('dbo:DUL.owl#NaturalPerson', 1.8252566000000001)]\nActual: ['dbo:EducationalInstitution', 'dbo:Organisation', 'dbo:Agent']\n\nID: dbpedia_12020\nPredicted: [('dbo:Country', 6.8196344), ('dbo:Q6256', 6.8196344), ('dbo:PopulatedPlace', 4.837825400000001), ('dbo:Place', 4.837825400000001), ('dbo:Location', 4.837825400000001), ('dbo:AdministrativeArea', 2.8560164), ('dbo:Q3455524', 2.8560164), ('dbo:Region', 2.8560164), ('dbo:owl#Thing', 2.114701487142857), ('dbo:Person', 1.2658365366666666)]\nActual: ['dbo:State', 'dbo:PopulatedPlace', 'dbo:Place']\n\nID: dbpedia_10315\nPredicted: [('dbo:Q12136', 0.98729485), ('dbo:AdministrativeArea', 0.8949141), ('dbo:Q3455524', 0.8949141), ('dbo:Region', 0.8949141), ('dbo:PopulatedPlace', 0.8949141), ('dbo:Place', 0.8949141), ('dbo:Location', 0.8949141), ('dbo:Q618779', 0.8588328), ('dbo:Q4964182', 0.8576908), ('dbo:owl#Thing', 0.8112464342857144)]\nActual: ['dbo:Opera', 'dbo:MusicalWork', 'dbo:Work']\n\nID: dbpedia_1335\nPredicted: [('dbo:Q618779', 4.517254), ('dbo:Country', 4.3405833), ('dbo:Q6256', 4.3405833), ('dbo:PopulatedPlace', 3.2069750999999997), ('dbo:Place', 3.2069750999999997), ('dbo:Location', 3.2069750999999997), ('dbo:AdministrativeArea', 2.0733669), ('dbo:Q3455524', 2.0733669), ('dbo:Region', 2.0733669), ('dbo:owl#Thing', 2.0106832333333333)]\nActual: ['dbo:Country', 'dbo:State', 'dbo:PopulatedPlace']\n\nID: dbpedia_6016\nPredicted: [('dbo:Q618779', 5.79), ('dbo:owl#Thing', 3.9280994000000002), ('dbo:Q4964182', 2.0661988), ('dbo:Person', 2.0661988), ('dbo:Q5', 2.0661988), ('dbo:Q215627', 2.0661988), ('dbo:DUL.owl#NaturalPerson', 2.0661988), ('dbo:Agent', 2.0661988), ('dbo:DUL.owl#Agent', 2.0661988), ('dbo:Q24229398', 2.0661988)]\nActual: ['dbo:AcademicSubject', 'dbo:TopicalConcept']\n\nID: dbpedia_3432\nPredicted: [('dbo:Q618779', 5.96154665), ('dbo:owl#Thing', 3.499454666666667), ('dbo:Person', 2.5584534000000008), ('dbo:Q5', 2.5584534000000003), ('dbo:Q215627', 2.5584534000000003), ('dbo:DUL.owl#NaturalPerson', 2.5584534000000003), ('dbo:Agent', 2.5584534000000003), ('dbo:DUL.owl#Agent', 2.5584534000000003), ('dbo:Q24229398', 2.5584534000000003), ('dbo:Q12136', 2.508838)]\nActual: ['dbo:Name']\n\nID: dbpedia_16006\nPredicted: [('dbo:Country', 5.9538774), ('dbo:Q6256', 5.9538774), ('dbo:PopulatedPlace', 3.44638828), ('dbo:Location', 3.44638828), ('dbo:Place', 3.446388279999999), ('dbo:owl#Thing', 1.8974910762500001), ('dbo:Book', 1.556277), ('dbo:Q571', 1.556277), ('dbo:WrittenWork', 1.556277), ('dbo:Work', 1.556277)]\nActual: ['dbo:Organisation', 'dbo:Agent']\n\nID: dbpedia_278\nPredicted: [('dbo:Q618779', 8.857797), ('dbo:Q36180', 4.681961), ('dbo:owl#Thing', 4.171191644444445), ('dbo:Movie', 3.325634), ('dbo:Wikidata:Q11424', 3.325634), ('dbo:Work', 3.325634), ('dbo:CreativeWork', 3.325634), ('dbo:Q386724', 3.325634), ('dbo:Agent', 3.2163902), ('dbo:DUL.owl#Agent', 3.2163902)]\nActual: ['dbo:Person', 'dbo:Agent']\n\nID: dbpedia_7661\nPredicted: [('dbo:Q4964182', 4.1323977), ('dbo:Agent', 3.0847255000000002), ('dbo:DUL.owl#Agent', 3.0847255000000002), ('dbo:Q24229398', 3.0847255000000002), ('dbo:Person', 2.439548000000001), ('dbo:Q5', 2.4395480000000003), ('dbo:Q215627', 2.4395480000000003), ('dbo:DUL.owl#NaturalPerson', 2.4395480000000003), ('dbo:owl#Thing', 2.0035742), ('dbo:Country', 1.4128572)]\nActual: ['dbo:Person', 'dbo:Agent']\n\nID: dbpedia_11196\nPredicted: [('dbo:Country', 2.7878194), ('dbo:Q6256', 2.7878194), ('dbo:Agent', 2.3227887), ('dbo:DUL.owl#Agent', 2.3227887), ('dbo:Q24229398', 2.3227887), ('dbo:Q4964182', 2.0661988), ('dbo:Person', 2.0293897750000003), ('dbo:Q5', 2.0293897750000003), ('dbo:Q215627', 2.0293897750000003), ('dbo:DUL.owl#NaturalPerson', 2.0293897750000003)]\nActual: ['dbo:WrittenWork', 'dbo:Work']\n\n"
     ]
    }
   ],
   "source": [
    "for i, (key, val) in enumerate(query_scores.items()):\n",
    "    print(\"ID: {}\".format(key))\n",
    "    print(\"Predicted: {}\".format(val['predicted'][:10]))\n",
    "    print(\"Actual: {}\\n\".format(val['actual'][:3]))\n",
    "    if i == 10:\n",
    "        break"
   ]
  },
  {
   "cell_type": "code",
   "execution_count": null,
   "metadata": {},
   "outputs": [],
   "source": []
  }
 ],
 "metadata": {
  "kernelspec": {
   "display_name": "Python 3",
   "language": "python",
   "name": "python3"
  },
  "language_info": {
   "codemirror_mode": {
    "name": "ipython",
    "version": 3
   },
   "file_extension": ".py",
   "mimetype": "text/x-python",
   "name": "python",
   "nbconvert_exporter": "python",
   "pygments_lexer": "ipython3",
   "version": "3.7.3-final"
  }
 },
 "nbformat": 4,
 "nbformat_minor": 2
}