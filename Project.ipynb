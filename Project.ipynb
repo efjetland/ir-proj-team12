{
 "cells": [
  {
   "cell_type": "code",
   "execution_count": 11,
   "metadata": {},
   "outputs": [],
   "source": [
    "# Required packages:\n",
    "import elasticsearch\n",
    "import math\n",
    "import numpy as np\n",
    "import os\n",
    "import pytest\n",
    "import random\n",
    "import requests\n",
    "import tarfile\n",
    "import json\n",
    "import bz2file\n",
    "import bz2\n",
    "\n",
    "from collections import Counter\n",
    "from collections import defaultdict\n",
    "from sklearn.ensemble import RandomForestRegressor\n",
    "from bz2 import BZ2File as bzopen\n",
    "from elasticsearch import Elasticsearch\n"
   ]
  },
  {
   "cell_type": "markdown",
   "metadata": {},
   "source": [
    "### Reading Query from Github\n",
    "\n",
    "Download query from github and split into train set and test set"
   ]
  },
  {
   "cell_type": "code",
   "execution_count": 2,
   "metadata": {},
   "outputs": [],
   "source": [
    "url = 'https://raw.githubusercontent.com/smart-task/smart-dataset/master/datasets/DBpedia/'\n",
    "file = 'smarttask_dbpedia_train.json'\n",
    "url = url + file\n",
    "queries=requests.get(url).json()\n",
    "\n",
    "\n",
    "random.seed(a=1234567)\n",
    "TRAIN_SIZE = int(len(queries) * 0.8)\n",
    "\n",
    "TRAIN_QUERY = queries[:TRAIN_SIZE]\n",
    "TEST_QUERY = queries[TRAIN_SIZE:]\n"
   ]
  },
  {
   "cell_type": "markdown",
   "metadata": {},
   "source": [
    "### Download file from DBPedia NLP dataset\n",
    "\n",
    "Check whether dataset files (bz2) are available in data folder and download bz2 file if they are not"
   ]
  },
  {
   "cell_type": "code",
   "execution_count": 3,
   "metadata": {},
   "outputs": [],
   "source": [
    "dburl= 'http://downloads.dbpedia.org/2016-10/core-i18n/en/'\n",
    "dbfiles = ['long_abstracts_en.ttl.bz2','short_abstracts_en.ttl.bz2','instance_types_sdtyped_dbo_en.ttl.bz2']\n",
    "#cwd = os.getcwd()  \n",
    "dirname = 'data'\n",
    "\n",
    "\n",
    "for dbfile in dbfiles:\n",
    "    if not os.path.exists(dirname):\n",
    "        os.mkdir(dirname) \n",
    "        \n",
    "    if not os.path.exists(dirname + '/' + dbfile):\n",
    "        # Download file\n",
    "        url = dburl + dbfile\n",
    "        r = requests.get(url)\n",
    "        with open(dirname + '/'+ dbfile, 'wb') as f:\n",
    "            f.write(r.content)\n",
    "    else:\n",
    "        continue\n"
   ]
  },
  {
   "cell_type": "markdown",
   "metadata": {},
   "source": [
    "\n",
    "### Index configuration \n",
    "\n",
    "For each of the fields, store the term vectors. These should be stored in the index. "
   ]
  },
  {
   "cell_type": "code",
   "execution_count": 12,
   "metadata": {},
   "outputs": [],
   "source": [
    "es = Elasticsearch()\n",
    "INDEX_NAME = 'nlp_entity'\n",
    "\n",
    "INDEX_SETTINGS = {\n",
    "    'mappings': {\n",
    "            'properties': {\n",
    "                #'names': {\n",
    "                #    'type': 'text',\n",
    "                #    'term_vector': 'yes',\n",
    "                #    'analyzer': 'english'\n",
    "                #},\n",
    "                'description': {\n",
    "                    'type': 'text',\n",
    "                    'term_vector': 'yes',\n",
    "                    'analyzer': 'english'\n",
    "                },\n",
    "                'types': {\n",
    "                    'type': 'text',\n",
    "                    'term_vector': 'yes',\n",
    "                    'analyzer': 'english'\n",
    "                },\n",
    "                #'catch_all': {\n",
    "                #    'type': 'text',\n",
    "                #    'term_vector': 'yes',\n",
    "                #    'analyzer': 'english'\n",
    "                #},\n",
    "            }\n",
    "        }\n",
    "    }\n"
   ]
  },
  {
   "cell_type": "code",
   "execution_count": 16,
   "metadata": {},
   "outputs": [],
   "source": [
    "ABSTRACTS = '<http://dbpedia.org/ontology/abstract>'\n",
    "COMMENTS = '<http://www.w3.org/2000/01/rdf-schema#comment>'\n",
    "TYPES = '<http://www.w3.org/1999/02/22-rdf-syntax-ns#type>'\n",
    "abstract_files = ['long_abstracts_en.ttl.bz2','short_abstracts_en.ttl.bz2']\n",
    "type_files = ['instance_types_sdtyped_dbo_en.ttl.bz2']"
   ]
  },
  {
   "cell_type": "code",
   "execution_count": 66,
   "metadata": {},
   "outputs": [],
   "source": [
    "def resolve_abstract(text,delimiter):\n",
    "    text = text.split(delimiter)\n",
    "    text = text[1].replace('\"', ' ')\n",
    "    text = text.replace(' @en .','')\n",
    "    return text\n",
    "\n",
    "def resolve_entity(text):\n",
    "    name = text.split('>')[0].replace('_', ' ')\n",
    "    name = name.split('/')[-1]\n",
    "    return name\n",
    "\n",
    "def resolve_types(text,delimiter):\n",
    "    text = text.split(delimiter)\n",
    "    types = text[1]\n",
    "    types = types.split('/ontology/')[-1].replace('_', ' ').replace('> .', '')\n",
    "    return ['dbo: ' + types]\n",
    "\n",
    "\n",
    "def populate_type(idx, filename):\n",
    "    doc = {}\n",
    "    #cwd = os.getcwd()\n",
    "    #myfile= os.path.join(cwd, dbfile)\n",
    "    myfile = 'data' + '/' +  filename\n",
    "    with bzopen(myfile, \"r\") as bzfin:\n",
    "        \n",
    "        for i, line in enumerate(bzfin):\n",
    "            if i == 0: continue                #skip header\n",
    "            line = line.rstrip().decode('utf-8')\n",
    "            entity = resolve_entity(line)\n",
    "            \n",
    "            if TYPES in line:                         #update index if it already exist if not then create new one    \n",
    "                types = resolve_types(line,TYPES)\n",
    "                if es.exists(index=idx, id=entity):\n",
    "                    #es.update(index=idx, id=entity, body={\n",
    "                    #    'script':{'source':'ctx._source.types.add(params.new_type)', 'params': {'new_type' : ' '+ types}}})\n",
    "                \n",
    "                    result = es.update(index=idx, id=entity, body={\n",
    "                        'script':{'source':'if(ctx._source.types.contains(params.new_type)){ctx._source.types=ctx._source.types} else {ctx._source.types.add(params.new_type)}', \n",
    "                        'params': {'new_type' : types}}})['result']\n",
    "                    if result != 'updated': print('failed to update type for :', entity)\n",
    "\n",
    "                else:\n",
    "                    es.index(index=idx, id=entity, body={'types':types,'description':''})\n",
    "            else:\n",
    "                continue\n",
    "\n",
    "            if i == 10: break\n",
    "\n",
    "def populate_abstract(idx, filename):\n",
    "    doc = {}\n",
    "    #cwd = os.getcwd()\n",
    "    #myfile= os.path.join(cwd, filename)\n",
    "    myfile = 'data' + '/'  + filename\n",
    "    with bzopen(myfile, \"r\") as bzfin:\n",
    "        for i, line in enumerate(bzfin):\n",
    "            \n",
    "            if i == 0: continue                      #skip header\n",
    "            line = line.rstrip().decode('utf-8')\n",
    "            entity = resolve_entity(line)\n",
    "                \n",
    "            if ABSTRACTS in line:     \n",
    "                desc = resolve_abstract(line,ABSTRACTS)\n",
    "            elif COMMENTS in line:\n",
    "                desc = resolve_abstract(line,COMMENTS)\n",
    "\n",
    "            if es.exists(index=idx, id=entity):    #update index if it already exist if not then create new one  \n",
    "                \n",
    "                #es.update(index=idx, id=entity, body={\n",
    "                #        'script':{'source':'ctx._source.description += params.new_desc', 'params': {'new_desc' :' '+ desc}}})\n",
    "                \n",
    "                result =es.update(index=idx, id=entity, body={\n",
    "                    'script':{'source':'if(ctx._source.description.contains(params.new_desc)){ctx._source.description=ctx._source.description} else {ctx._source.description += params.new_desc}', \n",
    "                    'params': {'new_desc' : ' ' + desc}}})['result']\n",
    "                if result != 'updated': print('failed to update description for :', entity)\n",
    "            else:\n",
    "                es.index(index=idx, id=entity, body={'types':'','description':desc})\n",
    "\n",
    "            if i == 10: break\n",
    "            "
   ]
  },
  {
   "cell_type": "code",
   "execution_count": 67,
   "metadata": {},
   "outputs": [
    {
     "data": {
      "text/plain": [
       "{'acknowledged': True, 'shards_acknowledged': True, 'index': 'nlp_entity'}"
      ]
     },
     "execution_count": 67,
     "metadata": {},
     "output_type": "execute_result"
    }
   ],
   "source": [
    "if es.indices.exists(INDEX_NAME):\n",
    "    es.indices.delete(index=INDEX_NAME)\n",
    "es.indices.create(index=INDEX_NAME, body=INDEX_SETTINGS)    \n"
   ]
  },
  {
   "cell_type": "markdown",
   "metadata": {},
   "source": [
    "## Populate index\n",
    "\n",
    "There are 2 steps in populating index based on fields. This is due to fact that there are 3 different dataset files for 2 different fields, types and description."
   ]
  },
  {
   "cell_type": "code",
   "execution_count": 68,
   "metadata": {},
   "outputs": [],
   "source": [
    "for file in type_files:\n",
    "    populate_type(INDEX_NAME,file)\n",
    "\n",
    "for file in abstract_files:\n",
    "    populate_abstract(INDEX_NAME, file)"
   ]
  },
  {
   "cell_type": "code",
   "execution_count": 65,
   "metadata": {},
   "outputs": [
    {
     "name": "stdout",
     "output_type": "stream",
     "text": [
      "{'took': 24, 'timed_out': False, '_shards': {'total': 1, 'successful': 1, 'skipped': 0, 'failed': 0}, 'hits': {'total': {'value': 1, 'relation': 'eq'}, 'max_score': 3.0575876, 'hits': [{'_index': 'nlp_entity', '_type': '_doc', '_id': 'Actrius', '_score': 3.0575876, '_source': {'types': '', 'description': '  Actresses (Catalan: Actrius) is a 1997 Catalan language Spanish drama film produced and directed by Ventura Pons and based on the award-winning stage play E.R. by Josep Maria Benet i Jornet. The film has no male actors, with all roles played by females. The film was produced in 1996.   Actresses (Catalan: Actrius) is a 1997 Catalan language Spanish drama film produced and directed by Ventura Pons and based on the award-winning stage play E.R. by Josep Maria Benet i Jornet. The film has no male actors, with all roles played by females. The film was produced in 1996.'}}]}}\n",
      "{'_index': 'nlp_entity', '_type': '_doc', '_id': 'Actrius', '_version': 2, 'found': True, 'took': 0, 'term_vectors': {'description': {'field_statistics': {'sum_doc_freq': 974, 'doc_count': 20, 'sum_ttf': 1605}, 'terms': {'1996': {'term_freq': 2}, '1997': {'term_freq': 2}, 'actor': {'term_freq': 2}, 'actress': {'term_freq': 2}, 'actriu': {'term_freq': 2}, 'all': {'term_freq': 2}, 'award': {'term_freq': 2}, 'base': {'term_freq': 2}, 'benet': {'term_freq': 2}, 'catalan': {'term_freq': 4}, 'direct': {'term_freq': 2}, 'drama': {'term_freq': 2}, 'e.r': {'term_freq': 2}, 'femal': {'term_freq': 2}, 'film': {'term_freq': 6}, 'ha': {'term_freq': 2}, 'i': {'term_freq': 2}, 'jornet': {'term_freq': 2}, 'josep': {'term_freq': 2}, 'languag': {'term_freq': 2}, 'male': {'term_freq': 2}, 'maria': {'term_freq': 2}, 'plai': {'term_freq': 4}, 'pon': {'term_freq': 2}, 'produc': {'term_freq': 4}, 'role': {'term_freq': 2}, 'spanish': {'term_freq': 2}, 'stage': {'term_freq': 2}, 'ventura': {'term_freq': 2}, 'win': {'term_freq': 2}}}}}\n"
     ]
    }
   ],
   "source": [
    "query = 'Actrius'\n",
    "hits = es.search(index=INDEX_NAME, body={'query': {'match': {'description': query}}},\n",
    "                               _source=True, size=1)\n",
    "print(hits)\n",
    "tv_1 = es.termvectors(index=INDEX_NAME, id='Actrius', fields='description')\n",
    "print(tv_1)"
   ]
  },
  {
   "cell_type": "code",
   "execution_count": null,
   "metadata": {},
   "outputs": [],
   "source": []
  }
 ],
 "metadata": {
  "kernelspec": {
   "display_name": "Python 3",
   "language": "python",
   "name": "python3"
  },
  "language_info": {
   "codemirror_mode": {
    "name": "ipython",
    "version": 3
   },
   "file_extension": ".py",
   "mimetype": "text/x-python",
   "name": "python",
   "nbconvert_exporter": "python",
   "pygments_lexer": "ipython3",
   "version": "3.7.1"
  }
 },
 "nbformat": 4,
 "nbformat_minor": 2
}
