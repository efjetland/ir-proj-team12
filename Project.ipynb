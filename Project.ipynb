{
 "cells": [
  {
   "cell_type": "code",
   "execution_count": 1,
   "metadata": {},
   "outputs": [],
   "source": [
    "# Required packages:\n",
    "import elasticsearch\n",
    "import math\n",
    "import numpy as np\n",
    "import os\n",
    "import pytest\n",
    "import random\n",
    "import requests\n",
    "import tarfile\n",
    "import json\n",
    "import bz2file\n",
    "import bz2\n",
    "import re\n",
    "\n",
    "from collections import Counter\n",
    "from collections import defaultdict\n",
    "from sklearn.ensemble import RandomForestRegressor\n",
    "from bz2 import BZ2File as bzopen\n",
    "from elasticsearch import Elasticsearch\n"
   ]
  },
  {
   "cell_type": "markdown",
   "metadata": {},
   "source": [
    "### Reading Query from Github\n",
    "\n",
    "Download query from github and split into train set and test set"
   ]
  },
  {
   "cell_type": "code",
   "execution_count": 2,
   "metadata": {},
   "outputs": [
    {
     "name": "stdout",
     "output_type": "stream",
     "text": [
      "14056\n"
     ]
    }
   ],
   "source": [
    "url = 'https://raw.githubusercontent.com/smart-task/smart-dataset/master/datasets/DBpedia/'\n",
    "file = 'smarttask_dbpedia_train.json'\n",
    "url = url + file\n",
    "queries=requests.get(url).json()\n",
    "\n",
    "\n",
    "random.seed(a=1234567)\n",
    "TRAIN_SIZE = int(len(queries) * 0.8)\n",
    "\n",
    "TRAIN_QUERY = queries[:TRAIN_SIZE]\n",
    "TEST_QUERY = queries[TRAIN_SIZE:]\n",
    "\n",
    "print(len(TRAIN_QUERY))\n"
   ]
  },
  {
   "cell_type": "markdown",
   "metadata": {},
   "source": [
    "### Download file from DBPedia NLP dataset\n",
    "\n",
    "Check whether dataset files (bz2) are available in data folder and download bz2 file if they are not"
   ]
  },
  {
   "cell_type": "code",
   "execution_count": 76,
   "metadata": {},
   "outputs": [],
   "source": [
    "dburl= 'http://downloads.dbpedia.org/2016-10/core-i18n/en/'\n",
    "#dbfiles = ['long_abstracts_en.ttl.bz2','short_abstracts_en.ttl.bz2','instance_types_sdtyped_dbo_en.ttl.bz2','instance_types_en.ttl.bz2']\n",
    "#cwd = os.getcwd()  \n",
    "dbfiles = ['long_abstracts_en.ttl.bz2','instance_types_transitive_en.ttl.bz2']\n",
    "dirname = 'data'\n",
    "\n",
    "for dbfile in dbfiles:\n",
    "    if not os.path.exists(dirname):\n",
    "        os.mkdir(dirname) \n",
    "    \n",
    "    # Download file\n",
    "    if not os.path.exists(dirname + '/' + dbfile):\n",
    "        url = dburl + dbfile\n",
    "        r = requests.get(url)\n",
    "        with open(dirname + '/'+ dbfile, 'wb') as f:\n",
    "            f.write(r.content)\n",
    "    \n",
    "    #extract\n",
    "    if not os.path.exists(dirname + '/' + dbfile[:-4]):\n",
    "        filepath= dirname + '/'+ dbfile\n",
    "        newfilepath = filepath[:-4] \n",
    "        with open(filepath, 'rb') as source, open(newfilepath, 'wb') as dest:\n",
    "            dest.write(bz2.decompress(source.read()))\n",
    " \n",
    "\n",
    "    else:\n",
    "        continue\n"
   ]
  },
  {
   "cell_type": "markdown",
   "metadata": {},
   "source": [
    "\n",
    "### Index configuration \n",
    "\n",
    "For each of the fields, store the term vectors. These should be stored in the index. "
   ]
  },
  {
   "cell_type": "code",
   "execution_count": 100,
   "metadata": {},
   "outputs": [],
   "source": [
    "es = Elasticsearch()\n",
    "INDEX_NAME = 'nlp_entity'\n",
    "\n",
    "INDEX_SETTINGS = {\n",
    "    'mappings': {\n",
    "            'properties': {\n",
    "                'description': {\n",
    "                    'type': 'text',\n",
    "                    'term_vector': 'yes',\n",
    "                    'analyzer': 'english'\n",
    "                },\n",
    "                'types': {\n",
    "                    'type': 'text',\n",
    "                    'term_vector': 'yes',\n",
    "                    'analyzer': 'english'\n",
    "                },\n",
    "            }\n",
    "        }\n",
    "    }\n"
   ]
  },
  {
   "cell_type": "code",
   "execution_count": 101,
   "metadata": {},
   "outputs": [],
   "source": [
    "ABSTRACTS = '<http://dbpedia.org/ontology/abstract>'\n",
    "COMMENTS = '<http://www.w3.org/2000/01/rdf-schema#comment>'\n",
    "TYPES = '<http://www.w3.org/1999/02/22-rdf-syntax-ns#type>'\n",
    "#abstract_files = ['long_abstracts_en.ttl.bz2','short_abstracts_en.ttl.bz2']\n",
    "#type_files = ['instance_types_sdtyped_dbo_en.ttl.bz2','instance_types_en.ttl.bz2']\n",
    "abstract_files = ['long_abstracts_en.ttl']\n",
    "type_files = ['instance_types_transitive_en.ttl']\n"
   ]
  },
  {
   "cell_type": "code",
   "execution_count": 142,
   "metadata": {},
   "outputs": [],
   "source": [
    "def resolve_abstract(text,delimiter):\n",
    "    text = text.split(delimiter)\n",
    "    text = text[1].replace('\"', '')\n",
    "    text = text.replace(' @en .','')\n",
    "    return text\n",
    "\n",
    "def resolve_entity(text):\n",
    "    name = text.split('>')[0].replace('_', ' ')\n",
    "    name = name.split('/')[-1]\n",
    "    return name\n",
    "\n",
    "def resolve_types(text,delimiter):\n",
    "    text = text.split(delimiter)\n",
    "    types = text[1]    \n",
    "    types = types[types.rfind('/')+1:types.rfind('>')]\n",
    "    if 'wikidata' in types.lower(): return None\n",
    "    return 'dbo:'+types\n",
    "\n",
    "def populate_type(idx, filename):\n",
    "    doc = {}\n",
    "    with open(filename,'r',encoding ='utf-8') as bzfin:\n",
    "        for i, line in enumerate(bzfin):\n",
    "            if i == 0: continue                                    #skip header\n",
    "            if 'dbpedia.org/ontology' in line.lower():             #only consider dbpedia\n",
    "                line = line.rstrip()\n",
    "                entity = resolve_entity(line)\n",
    "                if entity is not None:\n",
    "                    if TYPES in line:                             #update index if it already exist if not then create new one    \n",
    "                        types=resolve_types(line,TYPES)\n",
    "                        if es.exists(index=idx, id=entity):\n",
    "                            result = es.update(index=idx, id=entity, body={\n",
    "                                'script':{'source':'ctx._source.types.add(params.new_type)', 'params':\n",
    "                                              {'new_type' : types}}})['result']\n",
    "                        else:\n",
    "                            es.index(index=idx, id=entity, body={'types':[types],'description':''})\n",
    "\n",
    "            if i == 1000: break\n",
    "\n",
    "def populate_abstract(idx, filename):\n",
    "    doc = {}\n",
    "    with open(filename, 'r', encoding ='utf-8') as bzfin:\n",
    "        for i, line in enumerate(bzfin):\n",
    "            if i == 0: continue                                   #skip header\n",
    "            if 'dbpedia.org/ontology' in line.lower():            #only consider dbpedia\n",
    "                line = line.rstrip()\n",
    "                entity = resolve_entity(line) \n",
    "                if entity is not None:\n",
    "                    if ABSTRACTS in line:     \n",
    "                        desc = resolve_abstract(line,ABSTRACTS)\n",
    "                    elif COMMENTS in line:\n",
    "                        desc = resolve_abstract(line,COMMENTS)\n",
    "                    else:\n",
    "                        continue\n",
    "\n",
    "                    if es.exists(index=idx, id=entity):                 #only update index if already exist \n",
    "                        result = es.update(index=idx, id=entity, body={\n",
    "                                'script':{'source':'ctx._source.description += params.new_desc', \n",
    "                                          'params': {'new_desc' :desc + ' '}}})['result']\n",
    "                        if result != 'updated': print('failed to update description for :', entity)\n",
    "\n",
    "            if i == 1000: break\n",
    "            "
   ]
  },
  {
   "cell_type": "code",
   "execution_count": 143,
   "metadata": {},
   "outputs": [
    {
     "data": {
      "text/plain": [
       "{'acknowledged': True, 'shards_acknowledged': True, 'index': 'nlp_entity'}"
      ]
     },
     "execution_count": 143,
     "metadata": {},
     "output_type": "execute_result"
    }
   ],
   "source": [
    "if es.indices.exists(INDEX_NAME):\n",
    "    es.indices.delete(index=INDEX_NAME)\n",
    "es.indices.create(index=INDEX_NAME, body=INDEX_SETTINGS)    \n"
   ]
  },
  {
   "cell_type": "markdown",
   "metadata": {},
   "source": [
    "## Populate index\n",
    "\n",
    "There are 2 steps in populating index based on fields. This is due to fact that there are 3 different dataset files for 2 different fields, types and description."
   ]
  },
  {
   "cell_type": "code",
   "execution_count": 144,
   "metadata": {},
   "outputs": [],
   "source": [
    "for file in type_files:\n",
    "    file = dirname + '/'+ file\n",
    "    populate_type(INDEX_NAME,file)\n"
   ]
  },
  {
   "cell_type": "code",
   "execution_count": 145,
   "metadata": {},
   "outputs": [],
   "source": [
    "for file in abstract_files:\n",
    "    file = dirname + '/'+ file\n",
    "    populate_abstract(INDEX_NAME, file)"
   ]
  },
  {
   "cell_type": "code",
   "execution_count": 146,
   "metadata": {},
   "outputs": [
    {
     "name": "stdout",
     "output_type": "stream",
     "text": [
      "{'took': 11, 'timed_out': False, '_shards': {'total': 1, 'successful': 1, 'skipped': 0, 'failed': 0}, 'hits': {'total': {'value': 1, 'relation': 'eq'}, 'max_score': 7.8544297, 'hits': [{'_index': 'nlp_entity', '_type': '_doc', '_id': 'Alabama', '_score': 7.8544297, '_source': {'types': ['dbo:Region', 'dbo:PopulatedPlace', 'dbo:Place', 'dbo:Location'], 'description': \" Alabama (/ˌæləˈbæmə/) is a state in the southeastern region of the United States. It is bordered by Tennessee to the north, Georgia to the east, Florida and the Gulf of Mexico to the south, and Mississippi to the west. Alabama is the 30th-most extensive and the 24th-most populous of the 50 United States. At 1,300 miles (2,100 km), Alabama has one of the nation's longest navigable inland waterways. From the American Civil War until World War II, Alabama, like many states in the South, suffered economic hardship, in part because of continued dependence on agriculture. Despite the growth of major industries and urban centers, white rural interests dominated the state legislature from 1901 to the 1960s, as it did not regularly reapportion the legislature from 1901 to 1961; urban interests and African Americans were markedly under-represented. African Americans and poor whites were essentially disenfranchised altogether by the state constitution of 1901, a status that continued into the mid-1960s before being alleviated by federal legislation. Exclusion of minorities continued under at-large voting systems in most counties; some changes were made through a series of omnibus court cases in the late 1980s to establish different electoral systems. Following World War II, Alabama experienced growth as the state's economy changed from one primarily based on agriculture to one with diversified interests. The power of the Solid South in Congress gained the establishment or expansion of multiple United States Armed Forces installations, which helped bridge the gap between an agricultural and industrial economy during the mid-20th century. The state economy in the 21st century is based on management, automotive, finance, manufacturing, aerospace, mineral extraction, healthcare, education, retail, and technology. Alabama is nicknamed the Yellowhammer State, after the state bird. Alabama is also known as the \\\\Heart of Dixie\\\\ and the Cotton State. The state tree is the longleaf pine, and the state flower is the camellia. Alabama's capital is Montgomery. The largest city by population is Birmingham, which has long been the most industrialized city, and largest city by land area is Huntsville. The oldest city is Mobile, founded by French colonists in 1702 as the capital of French Louisiana.@en . \"}}]}}\n",
      "{'_index': 'nlp_entity', '_type': '_doc', '_id': 'Actrius', '_version': 3, 'found': True, 'took': 0, 'term_vectors': {'types': {'field_statistics': {'sum_doc_freq': 699, 'doc_count': 361, 'sum_ttf': 699}, 'terms': {'dbo:work': {'term_freq': 1}}}}}\n"
     ]
    }
   ],
   "source": [
    "query = 'Alabama'\n",
    "hits = es.search(index=INDEX_NAME, body={'query': {'match': {'description': query}}},\n",
    "                               _source=True, size=1)\n",
    "print(hits)\n",
    "tv_1 = es.termvectors(index=INDEX_NAME, id='Actrius', fields='types')\n",
    "print(tv_1)"
   ]
  },
  {
   "cell_type": "markdown",
   "metadata": {},
   "source": [
    "## Predic types for queries\n",
    "\n",
    "First score documents given the querie. Count the number of times a type occurs across the documents, dividing it by the sum of all type counts to get the type weight. For every type in a document, multiply the type weight with the document score and add to the types score."
   ]
  },
  {
   "cell_type": "code",
   "execution_count": 147,
   "metadata": {},
   "outputs": [],
   "source": [
    "def baseline_retrieval(index_name, query, field='description', k=100):\n",
    "    es_query = {\n",
    "        \"query\":{\n",
    "            \"query_string\":{\n",
    "                \"query\": query,\n",
    "                \"default_field\": field\n",
    "            }\n",
    "        }\n",
    "    }\n",
    "\n",
    "    matches = es.search(index=index_name, body=es_query, _source=True, size=k)['hits']['hits']\n",
    "\n",
    "    type_count = defaultdict(int)\n",
    "    for match in matches:\n",
    "        for doc_type in match['_source']['types']:\n",
    "            type_count[doc_type] += 1\n",
    "\n",
    "    type_weight = {}\n",
    "    for t, c in type_count.items():\n",
    "        type_weight[t] = 1/c\n",
    "\n",
    "    type_score = defaultdict(int)\n",
    "    for match in matches:\n",
    "        doc_id = match['_id']\n",
    "        doc_score = match['_score']\n",
    "        for doc_type in match['_source']['types']:\n",
    "            type_score[doc_type] += doc_score * type_weight[doc_type]\n",
    "\n",
    "    scores = sorted([(t, s) for t, s in type_score.items()],key=lambda tup: tup[1], reverse=True)\n",
    "    return scores\n"
   ]
  },
  {
   "cell_type": "code",
   "execution_count": 148,
   "metadata": {},
   "outputs": [],
   "source": [
    "query_scores = {}\n",
    "pattern = re.compile(r'[\\W_]+')\n",
    "for query in TRAIN_QUERY:\n",
    "    if query['category'] != 'resource':\n",
    "        continue\n",
    "    if query['question'] == None:\n",
    "        continue\n",
    "    q = pattern.sub(' ', query['question'])\n",
    "    predicted = baseline_retrieval(INDEX_NAME, q)\n",
    "    query_scores[query['id']] = {'predicted': predicted, 'actual': query['type']}"
   ]
  },
  {
   "cell_type": "code",
   "execution_count": 149,
   "metadata": {
    "tags": []
   },
   "outputs": [
    {
     "name": "stdout",
     "output_type": "stream",
     "text": [
      "ID: dbpedia_14427\n",
      "Predicted: [('dbo:Organisation', 2.809280125), (None, 2.7571983), ('dbo:Group', 2.7062265), ('dbo:Device', 2.6781578), ('dbo:Agent', 2.411791819047619), ('dbo:Person', 2.2315957136363633), ('dbo:Work', 2.229461971428571), ('dbo:Athlete', 2.1839557), ('dbo:WrittenWork', 2.17547836), ('dbo:Region', 2.1606475)]\n",
      "Actual: ['dbo:Opera', 'dbo:MusicalWork', 'dbo:Work']\n",
      "\n",
      "ID: dbpedia_3681\n",
      "Predicted: [('dbo:Organisation', 3.4089879499999998), ('dbo:SocietalEvent', 3.0295508), ('dbo:Event', 3.0295508), ('dbo:Group', 2.77038225), ('dbo:Agent', 2.7222432379310346), ('dbo:PopulatedPlace', 2.5865342333333334), ('dbo:Place', 2.5865342333333334), ('dbo:Location', 2.5865342333333334), ('dbo:Settlement', 2.4487092), ('dbo:Person', 2.3817801944444446)]\n",
      "Actual: ['dbo:EducationalInstitution', 'dbo:Organisation', 'dbo:Agent']\n",
      "\n",
      "ID: dbpedia_12020\n",
      "Predicted: [('dbo:Region', 4.3357285), ('dbo:SocietalEvent', 3.89033025), ('dbo:Event', 3.89033025), ('dbo:PopulatedPlace', 3.83666938), ('dbo:Group', 3.740636), ('dbo:Place', 3.5939960333333327), ('dbo:Location', 3.5939960333333327), ('dbo:Organisation', 3.24212612), ('dbo:WrittenWork', 3.1300099), ('dbo:Work', 3.1300099)]\n",
      "Actual: ['dbo:State', 'dbo:PopulatedPlace', 'dbo:Place']\n",
      "\n",
      "ID: dbpedia_10315\n",
      "Predicted: [('dbo:WrittenWork', 4.3988877), ('dbo:Work', 3.15309382), ('dbo:SocietalEvent', 2.26011285), ('dbo:Event', 2.26011285), ('dbo:Group', 2.1482490475), ('dbo:Organisation', 2.0792660149999995), ('dbo:Agent', 1.6466740697297304), ('dbo:Person', 1.4164409744), ('dbo:Eukaryote', 0.9403194666666667), ('dbo:Species', 0.9403194666666667)]\n",
      "Actual: ['dbo:Opera', 'dbo:MusicalWork', 'dbo:Work']\n",
      "\n",
      "ID: dbpedia_1335\n",
      "Predicted: [('dbo:SocietalEvent', 4.219517), ('dbo:Event', 4.219517), ('dbo:Region', 3.45694695), ('dbo:PopulatedPlace', 3.3879618471428574), ('dbo:Place', 3.0009180835294123), ('dbo:Location', 2.8952373955555553), ('dbo:Settlement', 2.477515433333333), ('dbo:Organisation', 2.2917371285714285), ('dbo:Group', 1.98021035), ('dbo:WrittenWork', 1.654706133333333)]\n",
      "Actual: ['dbo:Country', 'dbo:State', 'dbo:PopulatedPlace']\n",
      "\n",
      "ID: dbpedia_6016\n",
      "Predicted: [('dbo:Organisation', 5.3324085666666665), ('dbo:Group', 5.190527), ('dbo:Agent', 4.0401469125), ('dbo:SocietalEvent', 3.3121548), ('dbo:Event', 3.3121548), ('dbo:Person', 3.1468564000000003), ('dbo:WrittenWork', 2.6012994000000003), ('dbo:Work', 2.6012994000000003)]\n",
      "Actual: ['dbo:AcademicSubject', 'dbo:TopicalConcept']\n",
      "\n",
      "ID: dbpedia_3432\n",
      "Predicted: [('dbo:Satellite', 6.8495336), ('dbo:Cleric', 6.349394), ('dbo:BodyOfWater', 5.3061466), ('dbo:CelestialBody', 4.1246551), ('dbo:NaturalPlace', 4.0216345), ('dbo:MusicalWork', 4.0126295), ('dbo:Work', 3.144379733333334), ('dbo:Group', 3.134385325), ('dbo:Settlement', 3.0313140250000004), ('dbo:WrittenWork', 2.97072978)]\n",
      "Actual: ['dbo:Name']\n",
      "\n",
      "ID: dbpedia_16006\n",
      "Predicted: [('dbo:Activity', 3.8082423), ('dbo:Scientist', 3.71839), ('dbo:WrittenWork', 3.1243754), ('dbo:Work', 3.1243754), ('dbo:PopulatedPlace', 2.8318882000000003), ('dbo:Place', 2.651845033333333), ('dbo:Location', 2.651845033333333), ('dbo:Agent', 2.092728699999999), ('dbo:Person', 2.060434040909091), ('dbo:Organisation', 2.0401978875)]\n",
      "Actual: ['dbo:Organisation', 'dbo:Agent']\n",
      "\n",
      "ID: dbpedia_278\n",
      "Predicted: [('dbo:Scientist', 7.3522735), ('dbo:Group', 5.7874390600000005), ('dbo:Organisation', 3.6538068800000003), (None, 3.567389), ('dbo:Agent', 3.238541565853659), ('dbo:Work', 3.2175561666666663), ('dbo:WrittenWork', 3.04263975), ('dbo:Person', 2.9986198480000006), ('dbo:PopulatedPlace', 2.5999508), ('dbo:Place', 2.5999508)]\n",
      "Actual: ['dbo:Person', 'dbo:Agent']\n",
      "\n",
      "ID: dbpedia_7661\n",
      "Predicted: [('dbo:Person', 2.139466753333333), ('dbo:Agent', 1.8505198925925925), ('dbo:Activity', 1.6882118), ('dbo:Scientist', 1.6483797), ('dbo:Cleric', 1.5741007), ('dbo:Organisation', 1.41588575), ('dbo:PopulatedPlace', 1.1966397), ('dbo:Place', 1.1966397), ('dbo:Location', 1.1966397), ('dbo:Group', 1.1882612333333333)]\n",
      "Actual: ['dbo:Person', 'dbo:Agent']\n",
      "\n",
      "ID: dbpedia_11196\n",
      "Predicted: [('dbo:NaturalPlace', 4.735523), ('dbo:Person', 3.4820965307692306), ('dbo:Agent', 3.241362460975609), ('dbo:Organisation', 2.8191238625000006), ('dbo:Group', 2.5869900666666665), ('dbo:Place', 2.386814708333333), ('dbo:Location', 2.386814708333333), ('dbo:PopulatedPlace', 2.2581711), ('dbo:SocietalEvent', 2.0885719), ('dbo:Event', 2.0885719)]\n",
      "Actual: ['dbo:WrittenWork', 'dbo:Work']\n",
      "\n"
     ]
    }
   ],
   "source": [
    "for i, (key, val) in enumerate(query_scores.items()):\n",
    "    print(\"ID: {}\".format(key))\n",
    "    print(\"Predicted: {}\".format(val['predicted'][:10]))\n",
    "    print(\"Actual: {}\\n\".format(val['actual'][:3]))\n",
    "    if i == 10:\n",
    "        break"
   ]
  },
  {
   "cell_type": "code",
   "execution_count": null,
   "metadata": {},
   "outputs": [],
   "source": []
  }
 ],
 "metadata": {
  "kernelspec": {
   "display_name": "Python 3",
   "language": "python",
   "name": "python3"
  },
  "language_info": {
   "codemirror_mode": {
    "name": "ipython",
    "version": 3
   },
   "file_extension": ".py",
   "mimetype": "text/x-python",
   "name": "python",
   "nbconvert_exporter": "python",
   "pygments_lexer": "ipython3",
   "version": "3.7.1"
  }
 },
 "nbformat": 4,
 "nbformat_minor": 2
}
