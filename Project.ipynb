{
 "cells": [
  {
   "cell_type": "code",
   "execution_count": 2,
   "metadata": {},
   "outputs": [],
   "source": [
    "# Required packages:\n",
    "import elasticsearch\n",
    "import math\n",
    "import numpy as np\n",
    "import os\n",
    "import pytest\n",
    "import random\n",
    "import requests\n",
    "import tarfile\n",
    "import json\n",
    "import bz2file\n",
    "import bz2\n",
    "import re\n",
    "\n",
    "from collections import Counter\n",
    "from collections import defaultdict\n",
    "from sklearn.ensemble import RandomForestRegressor\n",
    "from bz2 import BZ2File as bzopen\n",
    "from elasticsearch import Elasticsearch\n"
   ]
  },
  {
   "cell_type": "markdown",
   "metadata": {},
   "source": [
    "### Reading Query from Github\n",
    "\n",
    "Download query from github and split into train set and test set"
   ]
  },
  {
   "cell_type": "code",
   "execution_count": 2,
   "metadata": {},
   "outputs": [
    {
     "name": "stdout",
     "output_type": "stream",
     "text": [
      "14056\n"
     ]
    }
   ],
   "source": [
    "url = 'https://raw.githubusercontent.com/smart-task/smart-dataset/master/datasets/DBpedia/'\n",
    "file = 'smarttask_dbpedia_train.json'\n",
    "url = url + file\n",
    "queries=requests.get(url).json()\n",
    "\n",
    "\n",
    "random.seed(a=1234567)\n",
    "TRAIN_SIZE = int(len(queries) * 0.8)\n",
    "\n",
    "TRAIN_QUERY = queries[:TRAIN_SIZE]\n",
    "TEST_QUERY = queries[TRAIN_SIZE:]\n",
    "\n",
    "print(len(TRAIN_QUERY))\n"
   ]
  },
  {
   "cell_type": "markdown",
   "metadata": {},
   "source": [
    "### Download file from DBPedia NLP dataset\n",
    "\n",
    "Check whether dataset files (bz2) are available in data folder and download bz2 file if they are not"
   ]
  },
  {
   "cell_type": "code",
   "execution_count": 8,
   "metadata": {},
   "outputs": [],
   "source": [
    "dburl= 'http://downloads.dbpedia.org/2016-10/core-i18n/en/'\n",
    "#dbfiles = ['long_abstracts_en.ttl.bz2','short_abstracts_en.ttl.bz2','instance_types_sdtyped_dbo_en.ttl.bz2','instance_types_en.ttl.bz2']\n",
    "#cwd = os.getcwd()  \n",
    "dbfiles = ['long_abstracts_en.ttl.bz2','instance_types_transitive_en.ttl.bz2']\n",
    "dirname = 'data'\n",
    "\n",
    "for dbfile in dbfiles:\n",
    "    if not os.path.exists(dirname):\n",
    "        os.mkdir(dirname) \n",
    "    \n",
    "    # Download file\n",
    "    if not os.path.exists(dirname + '/' + dbfile):\n",
    "        url = dburl + dbfile\n",
    "        r = requests.get(url)\n",
    "        with open(dirname + '/'+ dbfile, 'wb') as f:\n",
    "            f.write(r.content)\n",
    "    \n",
    "    #extract\n",
    "    if not os.path.exists(dirname + '/' + dbfile[:-4]):\n",
    "        filepath= dirname + '/'+ dbfile\n",
    "        newfilepath = filepath[:-4] \n",
    "        with open(filepath, 'rb') as source, open(newfilepath, 'wb') as dest:\n",
    "            dest.write(bz2.decompress(source.read()))\n",
    "    else:\n",
    "        continue\n"
   ]
  },
  {
   "cell_type": "markdown",
   "metadata": {},
   "source": [
    "\n",
    "### Index configuration \n",
    "\n",
    "For each of the fields, store the term vectors. These should be stored in the index. "
   ]
  },
  {
   "cell_type": "code",
   "execution_count": 3,
   "metadata": {},
   "outputs": [],
   "source": [
    "es = Elasticsearch()\n",
    "INDEX_NAME_ENTITY = 'nlp_entity'\n",
    "\n",
    "INDEX_SETTINGS_ENTITY = {\n",
    "    'mappings': {\n",
    "            'properties': {\n",
    "                'description': {\n",
    "                    'type': 'text',\n",
    "                    'term_vector': 'yes',\n",
    "                    'analyzer': 'english'\n",
    "                },\n",
    "                'types': {\n",
    "                    'type': 'text',\n",
    "                    'term_vector': 'yes',\n",
    "                    'analyzer': 'english'\n",
    "                },\n",
    "            }\n",
    "        }\n",
    "    }\n",
    "\n",
    "INDEX_NAME_TYPE = 'nlp_type'\n",
    "\n",
    "INDEX_SETTINGS_TYPE = {\n",
    "    'mappings': {\n",
    "            'properties': {\n",
    "                'description': {\n",
    "                    'type': 'text',\n",
    "                    'term_vector': 'yes',\n",
    "                    'analyzer': 'english'\n",
    "                },\n",
    "            }\n",
    "        }\n",
    "    }\n"
   ]
  },
  {
   "cell_type": "code",
   "execution_count": 4,
   "metadata": {},
   "outputs": [],
   "source": [
    "ABSTRACTS = '<http://dbpedia.org/ontology/abstract>'\n",
    "COMMENTS = '<http://www.w3.org/2000/01/rdf-schema#comment>'\n",
    "TYPES = '<http://www.w3.org/1999/02/22-rdf-syntax-ns#type>'\n",
    "#abstract_files = ['long_abstracts_en.ttl.bz2','short_abstracts_en.ttl.bz2']\n",
    "#type_files = ['instance_types_sdtyped_dbo_en.ttl.bz2','instance_types_en.ttl.bz2']\n",
    "abstract_files = ['long_abstracts_en.ttl']\n",
    "type_files = ['instance_types_transitive_en.ttl']\n"
   ]
  },
  {
   "cell_type": "code",
   "execution_count": 74,
   "metadata": {},
   "outputs": [],
   "source": [
    "def resolve_abstract(text,delimiter):\n",
    "    text = text.split(delimiter)\n",
    "    text = text[1].replace('\"', '')\n",
    "    text = text.replace('@en .','')\n",
    "    return text\n",
    "\n",
    "def resolve_entity(text):\n",
    "    name = text.split('>')[0].replace('_', ' ')\n",
    "    name = name.split('/')[-1]\n",
    "    return name\n",
    "\n",
    "def resolve_types(text,delimiter):\n",
    "    text = text.split(delimiter)\n",
    "    types = text[1]    \n",
    "    types = types[types.rfind('/')+1:types.rfind('>')]\n",
    "    if 'wikidata' in types.lower(): return None\n",
    "    return 'dbo:'+types\n",
    "\n",
    "def populate_type(idx, filename):\n",
    "    doc = {}\n",
    "    with open(filename,'r',encoding ='utf-8') as bzfin:\n",
    "        for i, line in enumerate(bzfin):\n",
    "            #skip header\n",
    "            if i == 0: continue        \n",
    "            #only consider dbpedia\n",
    "            if 'dbpedia.org' in line.lower(): \n",
    "                line = line.rstrip()\n",
    "                entity = resolve_entity(line)\n",
    "                if entity is not None:\n",
    "                    if TYPES in line:                                \n",
    "                        types=resolve_types(line,TYPES) \n",
    "                        #update index if it already exist if not then create new one \n",
    "                        try:\n",
    "                            if es.exists(index=idx, id=entity):\n",
    "                                result = es.update(index=idx, id=entity, body={\n",
    "                                    'script':{'source':'ctx._source.types.add(params.new_type)', 'params':\n",
    "                                                  {'new_type' : types}}})['result']\n",
    "                            else:\n",
    "                                es.index(index=idx, id=entity, body={'types':[types],'description':''})\n",
    "                        except:\n",
    "                            pass\n",
    "\n",
    "            if i == 100: break\n",
    "\n",
    "def populate_abstract(idx, filename):\n",
    "    doc = {}\n",
    "    with open(filename, 'r', encoding ='utf-8') as bzfin:\n",
    "        for i, line in enumerate(bzfin):\n",
    "            #skip header\n",
    "            if i == 0: continue      \n",
    "            #only consider dbpedia\n",
    "            if 'dbpedia.org' in line.lower():            \n",
    "                line = line.rstrip()\n",
    "                entity = resolve_entity(line) \n",
    "                if entity is not None:\n",
    "                    if ABSTRACTS in line:     \n",
    "                        desc = resolve_abstract(line,ABSTRACTS)\n",
    "                    elif COMMENTS in line:\n",
    "                        desc = resolve_abstract(line,COMMENTS)\n",
    "                    else:\n",
    "                        continue\n",
    "                    \n",
    "                    #only update index if document type already exist \n",
    "                    try:\n",
    "                        if es.exists(index=idx, id=entity):                 \n",
    "                            result = es.update(index=idx, id=entity, body={\n",
    "                                    'script':{'source':'ctx._source.description += params.new_desc', \n",
    "                                              'params': {'new_desc' :desc + ' '}}})['result']\n",
    "                            if result != 'updated': print('failed to update description for :', entity)\n",
    "                    except:\n",
    "                        pass\n",
    "\n",
    "            if i == 1000: break\n",
    "\n",
    "def populate_abstract_bytype(idx1,idx2, filename):\n",
    "    doc = {}\n",
    "    with open(filename, 'r', encoding ='utf-8') as bzfin:\n",
    "        for i, line in enumerate(bzfin):\n",
    "            #skip header\n",
    "            if i == 0: continue                                   \n",
    "            #only consider dbpedia\n",
    "            if 'dbpedia.org' in line.lower():            \n",
    "                line = line.rstrip()\n",
    "                entity = resolve_entity(line) \n",
    "                if entity is not None:\n",
    "                    #read types from existing entity index\n",
    "                    try:\n",
    "                        types = es.get(index=idx1, id=entity)['_source']['types']\n",
    "                        if types is not None:\n",
    "                            desc = resolve_abstract(line,ABSTRACTS)\n",
    "                            for typ in types:\n",
    "                               \n",
    "                                #update index or create index for each types found\n",
    "                                if es.exists(index=idx2, id=typ): \n",
    "                                    result = es.update(index=idx2, id=typ, body={\n",
    "                                        'script':{'source':'ctx._source.description += params.new_desc', \n",
    "                                            'params': {'new_desc' :desc + ' '}}})['result']\n",
    "                                    if result != 'updated': print('failed to update description for :', entity)\n",
    "                                else:\n",
    "                                    es.index(index=idx2, id=typ, body={'description':desc})\n",
    "                    except:\n",
    "                        pass\n",
    "\n",
    "            if i == 100: break\n",
    "            "
   ]
  },
  {
   "cell_type": "code",
   "execution_count": 75,
   "metadata": {},
   "outputs": [
    {
     "data": {
      "text/plain": [
       "{'acknowledged': True, 'shards_acknowledged': True, 'index': 'nlp_type'}"
      ]
     },
     "execution_count": 75,
     "metadata": {},
     "output_type": "execute_result"
    }
   ],
   "source": [
    "#Create Entity based index\n",
    "#if es.indices.exists(INDEX_NAME_ENTITY):\n",
    "#    es.indices.delete(index=INDEX_NAME_ENTITY)\n",
    "#es.indices.create(index=INDEX_NAME_ENTITY, body=INDEX_SETTINGS_ENTITY)    \n",
    "\n",
    "#Create Type based index\n",
    "if es.indices.exists(INDEX_NAME_TYPE):\n",
    "    es.indices.delete(index=INDEX_NAME_TYPE)\n",
    "es.indices.create(index=INDEX_NAME_TYPE, body=INDEX_SETTINGS_TYPE)    "
   ]
  },
  {
   "cell_type": "markdown",
   "metadata": {},
   "source": [
    "## Populate index\n",
    "\n",
    "There are 2 steps in populating index based on fields. This is due to fact that there are 3 different dataset files for 2 different fields, types and description."
   ]
  },
  {
   "cell_type": "code",
   "execution_count": null,
   "metadata": {},
   "outputs": [],
   "source": [
    "#1. Create entity based index , with types populated\n",
    "dirname = 'data'\n",
    "for file in type_files:\n",
    "    file = dirname + '/'+ file\n",
    "    populate_type(INDEX_NAME_ENTITY,file)"
   ]
  },
  {
   "cell_type": "code",
   "execution_count": 11,
   "metadata": {},
   "outputs": [],
   "source": [
    "#2. Create entity based index, with abstract populated\n",
    "dirname = 'data'\n",
    "for file in abstract_files:\n",
    "    file = dirname + '/'+ file\n",
    "    populate_abstract(INDEX_NAME_ENTITY, file)"
   ]
  },
  {
   "cell_type": "code",
   "execution_count": 76,
   "metadata": {},
   "outputs": [],
   "source": [
    "#3. Create type based index, with abstract populated\n",
    "dirname = 'data'\n",
    "for file in abstract_files:\n",
    "    file = dirname + '/'+ file\n",
    "    populate_abstract_bytype(INDEX_NAME_ENTITY,INDEX_NAME_TYPE, file)\n"
   ]
  },
  {
   "cell_type": "code",
   "execution_count": 77,
   "metadata": {},
   "outputs": [
    {
     "name": "stdout",
     "output_type": "stream",
     "text": [
      "{'description': \" Alain Connes (French: [alɛ̃ kɔn]; born 1 April 1947) is a French mathematician, currently Professor at the Collège de France, IHÉS, The Ohio State University and Vanderbilt University. He was an Invited Professor at the Conservatoire national des arts et métiers (2000). Aldous Leonard Huxley (/ˈɔːldəs ˈhʌksli/; 26 July 1894 – 22 November 1963) was an English writer, novelist, philosopher, and prominent member of the Huxley family. He graduated from Balliol College, Oxford, with a first in English literature. He was best known for his novels including Brave New World, set in a dystopian London; for non-fiction books, such as The Doors of Perception, which recalls experiences when taking a psychedelic drug; and a wide-ranging output of essays. Early in his career Huxley edited the magazine Oxford Poetry and published short stories and poetry. Mid career and later, he published travel writing, film stories, and scripts. He spent the later part of his life in the U.S., living in Los Angeles from 1937 until his death. In 1962, a year before his death, he was elected Companion of Literature by the Royal Society of Literature. Huxley was a humanist, pacifist, and satirist. He later became interested in spiritual subjects such as parapsychology and philosophical mysticism, in particular universalism. By the end of his life, Huxley was widely acknowledged as one of the pre-eminent intellectuals of his time. He was nominated for the Nobel Prize in Literature in seven different years.  Aristotle (/ˈærɪˌstɒtəl/; Greek: Ἀριστοτέλης Greek pronunciation: [aristotélɛːs], Aristotélēs; 384–322 BC) was a Greek philosopher and scientist born in the city of Stagira, Chalkidice, on the northern periphery of Classical Greece. His father, Nicomachus, died when Aristotle was a child, whereafter Proxenus of Atarneus became his guardian. At seventeen or eighteen years of age, he joined Plato's Academy in Athens and remained there until the age of thirty-seven (c. 347 BC). His writings cover many subjects – including physics, biology, zoology, metaphysics, logic, ethics, aesthetics, poetry, theater, music, rhetoric, linguistics, politics and government – and constitute the first comprehensive system of Western philosophy. Shortly after Plato died, Aristotle left Athens and, at the request of Philip of Macedon, tutored Alexander the Great beginning in 343 BC. Teaching Alexander the Great gave Aristotle many opportunities and an abundance of supplies. He established a library in the Lyceum which aided in the production of many of his hundreds of books. The fact that Aristotle was a pupil of Plato contributed to his former views of Platonism, but, following Plato's death, Aristotle immersed himself in empirical studies and shifted from Platonism to empiricism. He believed all peoples' concepts and all of their knowledge was ultimately based on perception. Aristotle's views on natural sciences represent the groundwork underlying many of his works. Aristotle's views on physical science profoundly shaped medieval scholarship. Their influence extended from Late Antiquity and the Early Middle Ages into the Renaissance, and were not replaced systematically until the Enlightenment and theories such as classical mechanics. Some of Aristotle's zoological observations, such as on the hectocotyl (reproductive) arm of the octopus, were not confirmed or refuted until the 19th century. His works contain the earliest known formal study of logic, which was incorporated in the late 19th century into modern formal logic. In metaphysics, Aristotelianism profoundly influenced Judeo-Islamic philosophical and theological thought during the Middle Ages and continues to influence Christian theology, especially the Neoplatonism of the Early Church and the scholastic tradition of the Roman Catholic Church. Aristotle was well known among medieval Muslim intellectuals and revered as \\\\The First Teacher\\\\ (Arabic: المعلم الأول\\u200e\\u200e). His ethics, though always influential, gained renewed interest with the modern advent of virtue ethics. All aspects of Aristotle's philosophy continue to be the object of active academic study today. Though Aristotle wrote many elegant treatises and dialogues – Cicero described his literary style as \\\\a river of gold\\\\ – it is thought that only around a third of his original output has survived.  Albert Sidney Johnston (February 2, 1803 – April 6, 1862) served as a general in three different armies: the Texian (i.e., Republic of Texas) Army, the United States Army, and the Confederate States Army. He saw extensive combat during his military career, fighting actions in the Texas War of Independence, the Mexican–American War, the Utah War, and the American Civil War. Considered by Confederate President Jefferson Davis to be the finest general officer in the Confederacy before the emergence of Robert E. Lee, he was killed early in the Civil War at the Battle of Shiloh. Johnston was the highest-ranking officer, Union or Confederate, killed during the entire war. Davis believed the loss of Johnston \\\\was the turning point of our fate\\\\. Johnston was unrelated to Confederate general Joseph E. Johnston.  Ayn Rand (/ˈaɪn ˈrænd/; born Alisa Zinov'yevna Rosenbaum, Russian: Али́са Зино́вьевна Розенба́ум; February 2 [O.S. January 20] 1905 – March 6, 1982) was a Russian-American novelist, philosopher, playwright, and screenwriter. She is known for her two best-selling novels, The Fountainhead and Atlas Shrugged, and for developing a philosophical system she called Objectivism. Educated in Russia, she moved to the United States in 1926. She had a play produced on Broadway in 1935–1936. After two early novels that were initially unsuccessful in America, she achieved fame with her 1943 novel, The Fountainhead. In 1957, Rand published her best-known work, the novel Atlas Shrugged. Afterward, she turned to non-fiction to promote her philosophy, publishing her own magazines and releasing several collections of essays until her death in 1982. Rand advocated reason as the only means of acquiring knowledge, and rejected faith and religion. She supported rational and ethical egoism, and rejected altruism. In politics, she condemned the initiation of force as immoral, and opposed collectivism and statism as well as anarchism, and instead supported laissez-faire capitalism, which she defined as the system based on recognizing individual rights. In art, Rand promoted romantic realism. She was sharply critical of most philosophers and philosophical traditions known to her, except for Aristotle and some Aristotelians, and classical liberals. Literary critics received Rand's fiction with mixed reviews, and academia generally ignored or rejected her philosophy, though academic interest has increased in recent decades. The Objectivist movement attempts to spread her ideas, both to the public and in academic settings. She has been a significant influence among libertarians and American conservatives.  Arthur Schopenhauer (German: [ˈaɐ̯tʊɐ̯ ˈʃoːpm̩ˌhaʊ̯ɐ]; 22 February 1788 – 21 September 1860) was a German philosopher. He is best known for his 1818 work The World as Will and Representation, in which he characterizes the phenomenal world as the product of a blind, insatiable, and malignant . Proceeding from the transcendental idealism of Immanuel Kant, Schopenhauer developed an atheistic metaphysical and ethical system that has been described as an exemplary manifestation of philosophical pessimism, rejecting the contemporaneous post-Kantian philosophies of German idealism. Schopenhauer was among the first thinkers in Western philosophy to share and affirm significant tenets of Eastern philosophy (e.g., asceticism, the world-as-appearance), having initially arrived at similar conclusions as the result of his own philosophical work. His writing on aesthetics, morality, and psychology would exert important influence on thinkers and artists throughout the 19th and 20th centuries. Though his work failed to garner substantial attention during his life, Schopenhauer has had a posthumous impact across various disciplines, including philosophy, literature, and science. Those who have cited his influence include Friedrich Nietzsche, Richard Wagner, Leo Tolstoy, Ludwig Wittgenstein, Erwin Schrödinger, Sigmund Freud, Gustav Mahler, Joseph Campbell, Albert Einstein, Carl Jung, Thomas Mann, Jorge Luis Borges, and Samuel Beckett, among others.  Alfred Habdank Skarbek Korzybski ([kɔˈʐɨpski]; July 3, 1879 – March 1, 1950) was a Polish-American independent scholar who developed a field called general semantics, which he viewed as both distinct from, and more encompassing than, the field of semantics. He argued that human knowledge of the world is limited both by the human nervous system and the languages humans have developed, and thus no one can have direct access to reality, given that the most we can know is that which is filtered through the brain's responses to reality. His best known dictum is \\\\The map is not the territory\\\\.  Andre Kirk Agassi (/ˈɑːndreɪ ˈæɡəsi/; born April 29, 1970) is an American retired professional tennis player and former World No. 1, who was one of the game's most dominant players from the early 1990s to the mid-2000s. Generally considered by critics and fellow players to be one of the greatest tennis players of all time, Agassi had been called the greatest service returner in the history of the game. Described by the BBC upon his retirement as \\\\perhaps the biggest worldwide star in the sport's history\\\\, Agassi compiled performances that, along with his unorthodox apparel and attitude, saw him cited as one of the most charismatic players in the history of the game. As a result, he is credited for helping to revive the popularity of tennis during the 1990s. In singles tennis, Agassi is an eight-time Grand Slam champion and a 1996 Olympic gold medalist, as well as finishing runner-up in seven other Grand Slam tournaments. During the Open Era, Agassi is the first male player to win 4 Australian Open titles and those were an Open Era record until Novak Djokovic won his 5th title on February 1, 2015. Agassi is one of five male singles players to achieve the Career Grand Slam in the Open Era and one of eight in history, the first of two to achieve the Career Golden Slam (Career Grand Slam and Olympic Gold Medal), and the only man to win the Career Golden Slam and the ATP Tour World Championships (won in 1990): a distinction dubbed as a \\\\Career Super Slam\\\\ by Sports Illustrated. Agassi was the first male player to win all four Grand Slam tournaments on three different surfaces (hard, clay and grass), and the last American male to win the French Open, in 1999 and the Australian Open (2003). He also won 17 ATP Masters Series titles and was part of a winning Davis Cup team in 1990, 1992 and 1995. Agassi reached the World No. 1 ranking for the first time in 1995 but was troubled by personal issues during the mid-to-late 1990s and sank to World No. 141 in 1997, prompting many to believe that his career was over. Agassi returned to World No. 1 in 1999 and enjoyed the most successful run of his career over the next four years. During his 20-plus year tour career, Agassi was known by the nickname \\\\The Punisher\\\\. After suffering from sciatica caused by two bulging discs in his back, a spondylolisthesis (vertebral displacement) and a bone spur that interfered with the nerve, Agassi retired from professional tennis on September 3, 2006, after losing in the third round of the US Open to Benjamin Becker. He is the founder of the Andre Agassi Charitable Foundation, which has raised over $60 million for at-risk children in Southern Nevada. In 2001, the Foundation opened the Andre Agassi College Preparatory Academy in Las Vegas, a K-12 public charter school for at-risk children. He has been married to fellow tennis player Steffi Graf since 2001.  Abraham Lincoln (/ˈeɪbrəhæm ˈlɪŋkən/; February 12, 1809 – April 15, 1865) was an American politician and lawyer who served as the 16th President of the United States from March 1861 until his assassination in April 1865. Lincoln led the United States through its Civil War—its bloodiest war and its greatest moral, constitutional, and political crisis. In doing so, he preserved the Union, abolished slavery, strengthened the federal government, and modernized the economy. Born in Hodgenville, Kentucky, Lincoln grew up on the western frontier in Kentucky and Indiana. Largely self-educated, he became a lawyer in Illinois, a Whig Party leader, and was elected to the Illinois House of Representatives, in which he served for eight years. Elected to the United States House of Representatives in 1846, Lincoln promoted rapid modernization of the economy through banks, tariffs, and railroads. Because he had originally agreed not to run for a second term in Congress, and because his opposition to the Mexican–American War was unpopular among Illinois voters, Lincoln returned to Springfield and resumed his successful law practice. Reentering politics in 1854, he became a leader in building the new Republican Party, which had a statewide majority in Illinois. In 1858, while taking part in a series of highly publicized debates with his opponent and rival, Democrat Stephen A. Douglas, Lincoln spoke out against the expansion of slavery, but lost the U.S. Senate race to Douglas. In 1860, Lincoln secured the Republican Party presidential nomination as a moderate from a swing state. Though he gained very little support in the slaveholding states of the South, he swept the North and was elected president in 1860. Lincoln's victory prompted seven southern slave states to form the Confederate States of America before he moved into the White House - no compromise or reconciliation was found regarding slavery and secession. Subsequently, on April 12, 1861, a Confederate attack on Fort Sumter inspired the North to enthusiastically rally behind the Union. As the leader of the moderate faction of the Republican Party, Lincoln confronted Radical Republicans, who demanded harsher treatment of the South, War Democrats, who called for more compromise, anti-war Democrats (called Copperheads), who despised him, and irreconcilable secessionists, who plotted his assassination. Politically, Lincoln fought back by pitting his opponents against each other, by carefully planned political patronage, and by appealing to the American people with his powers of oratory. His Gettysburg Address became an iconic endorsement of the principles of nationalism, republicanism, equal rights, liberty, and democracy. Lincoln initially concentrated on the military and political dimensions of the war. His primary goal was to reunite the nation. He suspended habeas corpus, leading to the controversial ex parte Merryman decision, and he averted potential British intervention in the war by defusing the Trent Affair in late 1861. Lincoln closely supervised the war effort, especially the selection of top generals, including his most successful general, Ulysses S. Grant. He also made major decisions on Union war strategy, including a naval blockade that shut down the South's normal trade, moves to take control of Kentucky and Tennessee, and using gunboats to gain control of the southern river system. Lincoln tried repeatedly to capture the Confederate capital at Richmond; each time a general failed, Lincoln substituted another, until finally Grant succeeded. As the war progressed, his complex moves toward ending slavery included the Emancipation Proclamation of 1863; Lincoln used the U.S. Army to protect escaped slaves, encouraged the border states to outlaw slavery, and pushed through Congress the Thirteenth Amendment to the United States Constitution, which permanently outlawed slavery. An exceptionally astute politician deeply involved with power issues in each state, Lincoln reached out to the War Democrats and managed his own re-election campaign in the 1864 presidential election. Anticipating the war's conclusion, Lincoln pushed a moderate view of Reconstruction, seeking to reunite the nation speedily through a policy of generous reconciliation in the face of lingering and bitter divisiveness. On April 14, 1865, five days after the April 9th surrender of Confederate commanding general Robert E. Lee, Lincoln was assassinated by John Wilkes Booth, a Confederate sympathizer. Lincoln has been consistently ranked both by scholars and the public as one of the three greatest U.S. presidents. \"}\n"
     ]
    }
   ],
   "source": [
    "#query = 'Alabama'\n",
    "#hits = es.search(index=INDEX_NAME_ENTITY, body={'query': {'match': {'description': query}}},\n",
    "#                               _source=True, size=1)\n",
    "#print(hits)\n",
    "#tv_1 = es.termvectors(index=INDEX_NAME_ENTITY, id='Crowe Clark Whitehill', fields='types')\n",
    "#print(tv_1)\n",
    "#res = es.get(index=INDEX_NAME_ENTITY, id=query)['_source']['types']\n",
    "#print(res)\n",
    "res = es.get(index=INDEX_NAME_TYPE, id='dbo:Person')['_source']\n",
    "print(res)\n"
   ]
  },
  {
   "cell_type": "markdown",
   "metadata": {},
   "source": [
    "## Predic types for queries\n",
    "\n",
    "First score documents given the querie. Count the number of times a type occurs across the documents, dividing it by the sum of all type counts to get the type weight. For every type in a document, multiply the type weight with the document score and add to the types score."
   ]
  },
  {
   "cell_type": "code",
   "execution_count": 147,
   "metadata": {},
   "outputs": [],
   "source": [
    "def baseline_retrieval(index_name, query, field='description', k=100):\n",
    "    es_query = {\n",
    "        \"query\":{\n",
    "            \"query_string\":{\n",
    "                \"query\": query,\n",
    "                \"default_field\": field\n",
    "            }\n",
    "        }\n",
    "    }\n",
    "\n",
    "    matches = es.search(index=index_name, body=es_query, _source=True, size=k)['hits']['hits']\n",
    "\n",
    "    type_count = defaultdict(int)\n",
    "    for match in matches:\n",
    "        for doc_type in match['_source']['types']:\n",
    "            type_count[doc_type] += 1\n",
    "\n",
    "    type_weight = {}\n",
    "    for t, c in type_count.items():\n",
    "        type_weight[t] = 1/c\n",
    "\n",
    "    type_score = defaultdict(int)\n",
    "    for match in matches:\n",
    "        doc_id = match['_id']\n",
    "        doc_score = match['_score']\n",
    "        for doc_type in match['_source']['types']:\n",
    "            type_score[doc_type] += doc_score * type_weight[doc_type]\n",
    "\n",
    "    scores = sorted([(t, s) for t, s in type_score.items()],key=lambda tup: tup[1], reverse=True)\n",
    "    return scores\n"
   ]
  },
  {
   "cell_type": "code",
   "execution_count": 148,
   "metadata": {},
   "outputs": [],
   "source": [
    "query_scores = {}\n",
    "pattern = re.compile(r'[\\W_]+')\n",
    "for query in TRAIN_QUERY:\n",
    "    if query['category'] != 'resource':\n",
    "        continue\n",
    "    if query['question'] == None:\n",
    "        continue\n",
    "    q = pattern.sub(' ', query['question'])\n",
    "    predicted = baseline_retrieval(INDEX_NAME, q)\n",
    "    query_scores[query['id']] = {'predicted': predicted, 'actual': query['type']}"
   ]
  },
  {
   "cell_type": "code",
   "execution_count": 149,
   "metadata": {
    "tags": []
   },
   "outputs": [
    {
     "name": "stdout",
     "output_type": "stream",
     "text": [
      "ID: dbpedia_14427\n",
      "Predicted: [('dbo:Organisation', 2.809280125), (None, 2.7571983), ('dbo:Group', 2.7062265), ('dbo:Device', 2.6781578), ('dbo:Agent', 2.411791819047619), ('dbo:Person', 2.2315957136363633), ('dbo:Work', 2.229461971428571), ('dbo:Athlete', 2.1839557), ('dbo:WrittenWork', 2.17547836), ('dbo:Region', 2.1606475)]\n",
      "Actual: ['dbo:Opera', 'dbo:MusicalWork', 'dbo:Work']\n",
      "\n",
      "ID: dbpedia_3681\n",
      "Predicted: [('dbo:Organisation', 3.4089879499999998), ('dbo:SocietalEvent', 3.0295508), ('dbo:Event', 3.0295508), ('dbo:Group', 2.77038225), ('dbo:Agent', 2.7222432379310346), ('dbo:PopulatedPlace', 2.5865342333333334), ('dbo:Place', 2.5865342333333334), ('dbo:Location', 2.5865342333333334), ('dbo:Settlement', 2.4487092), ('dbo:Person', 2.3817801944444446)]\n",
      "Actual: ['dbo:EducationalInstitution', 'dbo:Organisation', 'dbo:Agent']\n",
      "\n",
      "ID: dbpedia_12020\n",
      "Predicted: [('dbo:Region', 4.3357285), ('dbo:SocietalEvent', 3.89033025), ('dbo:Event', 3.89033025), ('dbo:PopulatedPlace', 3.83666938), ('dbo:Group', 3.740636), ('dbo:Place', 3.5939960333333327), ('dbo:Location', 3.5939960333333327), ('dbo:Organisation', 3.24212612), ('dbo:WrittenWork', 3.1300099), ('dbo:Work', 3.1300099)]\n",
      "Actual: ['dbo:State', 'dbo:PopulatedPlace', 'dbo:Place']\n",
      "\n",
      "ID: dbpedia_10315\n",
      "Predicted: [('dbo:WrittenWork', 4.3988877), ('dbo:Work', 3.15309382), ('dbo:SocietalEvent', 2.26011285), ('dbo:Event', 2.26011285), ('dbo:Group', 2.1482490475), ('dbo:Organisation', 2.0792660149999995), ('dbo:Agent', 1.6466740697297304), ('dbo:Person', 1.4164409744), ('dbo:Eukaryote', 0.9403194666666667), ('dbo:Species', 0.9403194666666667)]\n",
      "Actual: ['dbo:Opera', 'dbo:MusicalWork', 'dbo:Work']\n",
      "\n",
      "ID: dbpedia_1335\n",
      "Predicted: [('dbo:SocietalEvent', 4.219517), ('dbo:Event', 4.219517), ('dbo:Region', 3.45694695), ('dbo:PopulatedPlace', 3.3879618471428574), ('dbo:Place', 3.0009180835294123), ('dbo:Location', 2.8952373955555553), ('dbo:Settlement', 2.477515433333333), ('dbo:Organisation', 2.2917371285714285), ('dbo:Group', 1.98021035), ('dbo:WrittenWork', 1.654706133333333)]\n",
      "Actual: ['dbo:Country', 'dbo:State', 'dbo:PopulatedPlace']\n",
      "\n",
      "ID: dbpedia_6016\n",
      "Predicted: [('dbo:Organisation', 5.3324085666666665), ('dbo:Group', 5.190527), ('dbo:Agent', 4.0401469125), ('dbo:SocietalEvent', 3.3121548), ('dbo:Event', 3.3121548), ('dbo:Person', 3.1468564000000003), ('dbo:WrittenWork', 2.6012994000000003), ('dbo:Work', 2.6012994000000003)]\n",
      "Actual: ['dbo:AcademicSubject', 'dbo:TopicalConcept']\n",
      "\n",
      "ID: dbpedia_3432\n",
      "Predicted: [('dbo:Satellite', 6.8495336), ('dbo:Cleric', 6.349394), ('dbo:BodyOfWater', 5.3061466), ('dbo:CelestialBody', 4.1246551), ('dbo:NaturalPlace', 4.0216345), ('dbo:MusicalWork', 4.0126295), ('dbo:Work', 3.144379733333334), ('dbo:Group', 3.134385325), ('dbo:Settlement', 3.0313140250000004), ('dbo:WrittenWork', 2.97072978)]\n",
      "Actual: ['dbo:Name']\n",
      "\n",
      "ID: dbpedia_16006\n",
      "Predicted: [('dbo:Activity', 3.8082423), ('dbo:Scientist', 3.71839), ('dbo:WrittenWork', 3.1243754), ('dbo:Work', 3.1243754), ('dbo:PopulatedPlace', 2.8318882000000003), ('dbo:Place', 2.651845033333333), ('dbo:Location', 2.651845033333333), ('dbo:Agent', 2.092728699999999), ('dbo:Person', 2.060434040909091), ('dbo:Organisation', 2.0401978875)]\n",
      "Actual: ['dbo:Organisation', 'dbo:Agent']\n",
      "\n",
      "ID: dbpedia_278\n",
      "Predicted: [('dbo:Scientist', 7.3522735), ('dbo:Group', 5.7874390600000005), ('dbo:Organisation', 3.6538068800000003), (None, 3.567389), ('dbo:Agent', 3.238541565853659), ('dbo:Work', 3.2175561666666663), ('dbo:WrittenWork', 3.04263975), ('dbo:Person', 2.9986198480000006), ('dbo:PopulatedPlace', 2.5999508), ('dbo:Place', 2.5999508)]\n",
      "Actual: ['dbo:Person', 'dbo:Agent']\n",
      "\n",
      "ID: dbpedia_7661\n",
      "Predicted: [('dbo:Person', 2.139466753333333), ('dbo:Agent', 1.8505198925925925), ('dbo:Activity', 1.6882118), ('dbo:Scientist', 1.6483797), ('dbo:Cleric', 1.5741007), ('dbo:Organisation', 1.41588575), ('dbo:PopulatedPlace', 1.1966397), ('dbo:Place', 1.1966397), ('dbo:Location', 1.1966397), ('dbo:Group', 1.1882612333333333)]\n",
      "Actual: ['dbo:Person', 'dbo:Agent']\n",
      "\n",
      "ID: dbpedia_11196\n",
      "Predicted: [('dbo:NaturalPlace', 4.735523), ('dbo:Person', 3.4820965307692306), ('dbo:Agent', 3.241362460975609), ('dbo:Organisation', 2.8191238625000006), ('dbo:Group', 2.5869900666666665), ('dbo:Place', 2.386814708333333), ('dbo:Location', 2.386814708333333), ('dbo:PopulatedPlace', 2.2581711), ('dbo:SocietalEvent', 2.0885719), ('dbo:Event', 2.0885719)]\n",
      "Actual: ['dbo:WrittenWork', 'dbo:Work']\n",
      "\n"
     ]
    }
   ],
   "source": [
    "for i, (key, val) in enumerate(query_scores.items()):\n",
    "    print(\"ID: {}\".format(key))\n",
    "    print(\"Predicted: {}\".format(val['predicted'][:10]))\n",
    "    print(\"Actual: {}\\n\".format(val['actual'][:3]))\n",
    "    if i == 10:\n",
    "        break"
   ]
  },
  {
   "cell_type": "code",
   "execution_count": null,
   "metadata": {},
   "outputs": [],
   "source": []
  }
 ],
 "metadata": {
  "kernelspec": {
   "display_name": "Python 3",
   "language": "python",
   "name": "python3"
  },
  "language_info": {
   "codemirror_mode": {
    "name": "ipython",
    "version": 3
   },
   "file_extension": ".py",
   "mimetype": "text/x-python",
   "name": "python",
   "nbconvert_exporter": "python",
   "pygments_lexer": "ipython3",
   "version": "3.7.1"
  }
 },
 "nbformat": 4,
 "nbformat_minor": 2
}
